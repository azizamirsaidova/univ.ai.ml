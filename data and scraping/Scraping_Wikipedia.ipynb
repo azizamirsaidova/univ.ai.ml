{
    "metadata": {
        "kernelspec": {
            "name": "python3",
            "display_name": "Python 3",
            "language": "python"
        }
    },
    "nbformat": 4,
    "nbformat_minor": 4,
    "cells": [
        {
            "attachments": {},
            "cell_type": "markdown",
            "metadata": {},
            "source": [
                "# Data Engineering with Beautiful Soup\n",
                "\n",
                "Data Engineering, the process of gathering and preparing data for analysis, is a very big part of Data Science.\n",
                "\n",
                "Datasets might not be formatted in the way you need (e.g. you have categorical features but your algorithm requires numerical features); or you might need to cross-reference some dataset to another that has a different format; or you might be dealing with a dataset that contains missing or invalid data.\n",
                "\n",
                "These are just a few examples of why data retrieval and cleaning are so important."
            ]
        },
        {
            "attachments": {},
            "cell_type": "markdown",
            "metadata": {},
            "source": [
                "## Retrieving data from the web"
            ]
        },
        {
            "cell_type": "code",
            "execution_count": 1,
            "metadata": {},
            "outputs": [],
            "source": [
                "import requests"
            ]
        },
        {
            "cell_type": "code",
            "execution_count": 2,
            "metadata": {},
            "outputs": [],
            "source": [
                "# Get the HU Wikipedia page\n",
                "req = requests.get(\"https://en.wikipedia.org/wiki/Harvard_University\")"
            ]
        },
        {
            "cell_type": "code",
            "execution_count": 3,
            "metadata": {
                "scrolled": true
            },
            "outputs": [
                {
                    "data": {
                        "text/plain": "'\u003c!DOCTYPE html\u003e\\n\u003chtml class=\"client-nojs\" lang=\"en\" dir=\"ltr\"\u003e\\n\u003chead\u003e\\n\u003cmeta charset=\"UTF-8\"/\u003e\\n\u003ctitle\u003eHarvard University - Wikipedia\u003c/title\u003e\\n\u003cscript\u003edocument.documentElement.className=\"client-js\";RLCONF={\"wgBreakFrames\":!1,\"wgSeparatorTransformTable\":[\"\",\"\"],\"wgDigitTransformTable\":[\"\",\"\"],\"wgDefaultDateFormat\":\"dmy\",\"wgMonthNames\":[\"\",\"January\",\"February\",\"March\",\"April\",\"May\",\"June\",\"July\",\"August\",\"September\",\"October\",\"November\",\"December\"],\"wgRequestId\":\"cc2b656f-514a-4a38-9413-66df01af012b\",\"wgCSPNonce\":!1,\"wgCanonicalNamespace\":\"\",\"wgCanonicalSpecialPageName\":!1,\"wgNamespaceNumber\":0,\"wgPageName\":\"Harvard_University\",\"wgTitle\":\"Harvard University\",\"wgCurRevisionId\":1024002151,\"wgRevisionId\":1024002151,\"wgArticleId\":18426501,\"wgIsArticle\":!0,\"wgIsRedirect\":!1,\"wgAction\":\"view\",\"wgUserName\":null,\"wgUserGroups\":[\"*\"],\"wgCategories\":[\"CS1 maint: location\",\"Webarchive template wayback links\",\"CS1: Julian–Gregorian uncertainty\",\"Articles with short description\",\"Short description match'"
                    },
                    "execution_count": 3,
                    "metadata": {},
                    "output_type": "execute_result"
                }
            ],
            "source": [
                "page = req.text\n",
                "page[:1000]"
            ]
        },
        {
            "attachments": {},
            "cell_type": "markdown",
            "metadata": {},
            "source": [
                "Great! Now we have the text of the Harvard Wikipedia page. But this mess of HTML tags would be a pain to parse manually. Which is why we will use another very cool Python library called BeautifulSoup."
            ]
        },
        {
            "attachments": {},
            "cell_type": "markdown",
            "metadata": {},
            "source": [
                "## BeautifulSoup\n",
                "\n",
                "Parsing data would be a breeze if we could always use well formatted data sources, such as CSV, JSON, or XML; but some formats such as HTML are at the same time a very popular and a pain to parse.\n",
                "\n",
                "One of the problems with HTML is that over the years browsers have evolved to be very forgiving of \"malformed\" syntax. Your browser is smart enough to detect some common problems, such as open tags, and correct them on the fly.\n",
                "\n",
                "Unfortunately, we do not have the time or patience to implement all the different corner cases, so we'll let BeautifulSoup do that for us.\n",
                "\n",
                "You'll notice that the `import` statement bellow is different from what we used for `requests`. The _from library import thing_ pattern is useful when you don't want to reference a function byt its full name (like we did with `requests.get`), but you also don't want to import every single thing on that library into your namespace."
            ]
        },
        {
            "cell_type": "code",
            "execution_count": 4,
            "metadata": {},
            "outputs": [],
            "source": [
                "from bs4 import BeautifulSoup"
            ]
        },
        {
            "attachments": {},
            "cell_type": "markdown",
            "metadata": {},
            "source": [
                "BeautifulSoup can deal with HTML or XML data, so the next line parser the contents of the `page` variable using its HTML parser, and assigns the result of that to the `soup` variable."
            ]
        },
        {
            "cell_type": "code",
            "execution_count": 5,
            "metadata": {},
            "outputs": [],
            "source": [
                "soup = BeautifulSoup(page, 'html.parser')"
            ]
        },
        {
            "cell_type": "code",
            "execution_count": 6,
            "metadata": {},
            "outputs": [
                {
                    "data": {
                        "text/plain": "bs4.BeautifulSoup"
                    },
                    "execution_count": 6,
                    "metadata": {},
                    "output_type": "execute_result"
                }
            ],
            "source": [
                "type(soup)"
            ]
        },
        {
            "attachments": {},
            "cell_type": "markdown",
            "metadata": {},
            "source": [
                "Doesn't look much different from the `page` object representation. Let's make sure the two are different types."
            ]
        },
        {
            "cell_type": "code",
            "execution_count": 7,
            "metadata": {},
            "outputs": [
                {
                    "data": {
                        "text/plain": "str"
                    },
                    "execution_count": 7,
                    "metadata": {},
                    "output_type": "execute_result"
                }
            ],
            "source": [
                "type(page)"
            ]
        },
        {
            "attachments": {},
            "cell_type": "markdown",
            "metadata": {},
            "source": [
                "Looks like they are indeed different.\n",
                "\n",
                "`BeautifulSoup` objects have a cool little method that allows you to see the HTML content in a nice, indented way."
            ]
        },
        {
            "cell_type": "code",
            "execution_count": 8,
            "metadata": {},
            "outputs": [
                {
                    "name": "stdout",
                    "output_type": "stream",
                    "text": "\u003c!DOCTYPE html\u003e\n\u003chtml class=\"client-nojs\" dir=\"ltr\" lang=\"en\"\u003e\n \u003chead\u003e\n  \u003cmeta charset=\"utf-8\"/\u003e\n  \u003ctitle\u003e\n   Harvard University - Wikipedia\n  \u003c/title\u003e\n  \u003cscript\u003e\n   document.documentElement.className=\"client-js\";RLCONF={\"wgBreakFrames\":!1,\"wgSeparatorTransformTable\":[\"\",\"\"],\"wgDigitTransformTable\":[\"\",\"\"],\"wgDefaultDateFormat\":\"dmy\",\"wgMonthNames\":[\"\",\"January\",\"February\",\"March\",\"April\",\"May\",\"June\",\"July\",\"August\",\"September\",\"October\",\"November\",\"December\"],\"wgRequestId\":\"cc2b656f-514a-4a38-9413-66df01af012b\",\"wgCSPNonce\":!1,\"wgCanonicalNamespace\":\"\",\"wgCanonicalSpecialPageName\":!1,\"wgNamespaceNumber\":0,\"wgPageName\":\"Harvard_University\",\"wgTitle\":\"Harvard University\",\"wgCurRevisionId\":1024002151,\"wgRevisionId\":1024002151,\"wgArticleId\":18426501,\"wgIsArticle\":!0,\"wgIsRedirect\":!1,\"wgAction\":\"view\",\"wgUserName\":null,\"wgUserGroups\":[\"*\"],\"wgCategories\":[\"CS1 maint: location\",\"Webarchive template wayback links\",\"CS1: Julian–Gregorian uncertainty\",\"Articles with short description\",\"Short\n"
                }
            ],
            "source": [
                "print(soup.prettify()[:1000])"
            ]
        },
        {
            "attachments": {},
            "cell_type": "markdown",
            "metadata": {},
            "source": [
                "Looks like it's our page!\n",
                "\n",
                "We can now reference elements of the HTML document in different ways. One very convenient way is by using the dot notation, which allows us to access the elements as if they were properties of the object."
            ]
        },
        {
            "cell_type": "code",
            "execution_count": 9,
            "metadata": {},
            "outputs": [
                {
                    "data": {
                        "text/plain": "\u003ctitle\u003eHarvard University - Wikipedia\u003c/title\u003e"
                    },
                    "execution_count": 9,
                    "metadata": {},
                    "output_type": "execute_result"
                }
            ],
            "source": [
                "soup.title"
            ]
        },
        {
            "attachments": {},
            "cell_type": "markdown",
            "metadata": {},
            "source": [
                "This is nice for HTML elements that only appear once per page, such the the `title` tag. But what about elements that can appear multiple times?"
            ]
        },
        {
            "cell_type": "code",
            "execution_count": 10,
            "metadata": {},
            "outputs": [
                {
                    "data": {
                        "text/plain": "\u003cp class=\"mw-empty-elt\"\u003e\n\u003c/p\u003e"
                    },
                    "execution_count": 10,
                    "metadata": {},
                    "output_type": "execute_result"
                }
            ],
            "source": [
                "# Be careful with elements that show up multiple times.\n",
                "soup.p"
            ]
        },
        {
            "attachments": {},
            "cell_type": "markdown",
            "metadata": {},
            "source": [
                "Uh Oh. Turns out the attribute syntax in Beautiful soup is what is called syntactic sugar. That's why it is safer to use the explicit commands behind that syntactic sugar I mentioned. These are `BeautifulSoup.find` for getting single elements, and `BeautifulSoup.find_all` for retrieving multiple elements."
            ]
        },
        {
            "cell_type": "code",
            "execution_count": 11,
            "metadata": {},
            "outputs": [
                {
                    "data": {
                        "text/plain": "102"
                    },
                    "execution_count": 11,
                    "metadata": {},
                    "output_type": "execute_result"
                }
            ],
            "source": [
                "len(soup.find_all(\"p\"))"
            ]
        },
        {
            "attachments": {},
            "cell_type": "markdown",
            "metadata": {},
            "source": [
                "---"
            ]
        },
        {
            "attachments": {},
            "cell_type": "markdown",
            "metadata": {},
            "source": [
                "If you look at the Wikipedia page on your browser, you'll notice that it has a couple of tables in it. We will be working with the \"Demographics\" table, but first we need to find it.\n",
                "\n",
                "One of the HTML attributes that will be very useful to us is the \"class\" attribute.\n",
                "\n",
                "Getting the class of a single element is easy..."
            ]
        },
        {
            "cell_type": "code",
            "execution_count": 11,
            "metadata": {},
            "outputs": [
                {
                    "data": {
                        "text/plain": "['infobox', 'vcard']"
                    },
                    "execution_count": 11,
                    "metadata": {},
                    "output_type": "execute_result"
                }
            ],
            "source": [
                "soup.table[\"class\"]"
            ]
        },
        {
            "attachments": {},
            "cell_type": "markdown",
            "metadata": {},
            "source": [
                "Next we will use a list comprehension to see all the tables that have a \"class\" attribute. "
            ]
        },
        {
            "cell_type": "code",
            "execution_count": 12,
            "metadata": {},
            "outputs": [
                {
                    "data": {
                        "text/plain": "[['infobox', 'vcard'],\n ['toccolours'],\n ['infobox'],\n ['wikitable', 'sortable', 'collapsible', 'collapsed', 'floatright'],\n ['wikitable', 'sortable', 'collapsible', 'collapsed', 'floatright'],\n ['wikitable'],\n ['metadata', 'mbox-small'],\n ['nowraplinks', 'mw-collapsible', 'mw-collapsed', 'navbox-inner'],\n ['nowraplinks', 'navbox-subgroup'],\n ['nowraplinks', 'mw-collapsible', 'mw-collapsed', 'navbox-inner'],\n ['nowraplinks', 'mw-collapsible', 'autocollapse', 'navbox-inner'],\n ['nowraplinks', 'mw-collapsible', 'mw-collapsed', 'navbox-inner'],\n ['nowraplinks', 'mw-collapsible', 'autocollapse', 'navbox-inner'],\n ['nowraplinks', 'mw-collapsible', 'autocollapse', 'navbox-inner'],\n ['nowraplinks', 'mw-collapsible', 'autocollapse', 'navbox-inner'],\n ['nowraplinks', 'mw-collapsible', 'autocollapse', 'navbox-inner'],\n ['nowraplinks', 'mw-collapsible', 'autocollapse', 'navbox-inner'],\n ['nowraplinks', 'mw-collapsible', 'autocollapse', 'navbox-inner'],\n ['nowraplinks', 'hlist', 'mw-collapsible', 'autocollapse', 'navbox-inner'],\n ['nowraplinks', 'mw-collapsible', 'autocollapse', 'navbox-inner'],\n ['nowraplinks', 'mw-collapsible', 'autocollapse', 'navbox-inner'],\n ['nowraplinks', 'mw-collapsible', 'mw-collapsed', 'navbox-inner'],\n ['nowraplinks', 'hlist', 'mw-collapsible', 'autocollapse', 'navbox-inner'],\n ['nowraplinks', 'navbox-subgroup'],\n ['nowraplinks', 'hlist', 'navbox-inner']]"
                    },
                    "execution_count": 12,
                    "metadata": {},
                    "output_type": "execute_result"
                }
            ],
            "source": [
                "#the classes of all tables that have a class sttribute set on them\n",
                "[t[\"class\"] for t in soup.find_all(\"table\") if t.get(\"class\")]"
            ]
        },
        {
            "attachments": {},
            "cell_type": "markdown",
            "metadata": {},
            "source": [
                "As mentioned, we will be using the Demographics table. To find this, we notice that it is the only table with just the class `wikitable` on it, whereas there are 3 tables with the class `wikitable`, with the other  two having multiple classes on them. This is why `find_all` below returns 3 results."
            ]
        },
        {
            "cell_type": "code",
            "execution_count": 13,
            "metadata": {},
            "outputs": [],
            "source": [
                "tables_wikitable = soup.find_all(\"table\", \"wikitable\")"
            ]
        },
        {
            "cell_type": "code",
            "execution_count": 14,
            "metadata": {},
            "outputs": [
                {
                    "data": {
                        "text/plain": "3"
                    },
                    "execution_count": 14,
                    "metadata": {},
                    "output_type": "execute_result"
                }
            ],
            "source": [
                "len(tables_wikitable)"
            ]
        },
        {
            "attachments": {},
            "cell_type": "markdown",
            "metadata": {},
            "source": [
                "Below we use a **matching** lambda function to find the table with just the class wikitable. Note that we have asked for a list with just `wikitable` in it. That ensures its the only class"
            ]
        },
        {
            "cell_type": "code",
            "execution_count": 15,
            "metadata": {},
            "outputs": [],
            "source": [
                "dfinder = lambda tag: tag.name=='table' and tag.get('class') == ['wikitable']\n",
                "table_demographics = soup.find_all(dfinder)"
            ]
        },
        {
            "attachments": {},
            "cell_type": "markdown",
            "metadata": {},
            "source": [
                "By contrast a simple find would give us just the first match. The below would be a great way to do things if we were guaranteed uniqueness. But since we are not, we use the full power of passing in a matching function."
            ]
        },
        {
            "cell_type": "code",
            "execution_count": 16,
            "metadata": {},
            "outputs": [
                {
                    "data": {
                        "text/plain": "\u003ctable class=\"wikitable sortable collapsible collapsed floatright\"\u003e\n\u003ctbody\u003e\u003ctr\u003e\n\u003cth colspan=\"4\" style=\"background-color:#A51C30;color:white;box-shadow: inset 2px 2px 0 #1E1E1E, inset -2px -2px 0 #1E1E1E;\"\u003eNational Graduate Rankings\u003csup class=\"reference\" id=\"cite_ref-94\"\u003e\u003ca href=\"#cite_note-94\"\u003e[94]\u003c/a\u003e\u003c/sup\u003e\n\u003c/th\u003e\u003c/tr\u003e\n\u003ctr\u003e\n\u003cth\u003eProgram\n\u003c/th\u003e\n\u003cth\u003eRanking\n\u003c/th\u003e\u003c/tr\u003e\n\u003ctr\u003e\n\u003ctd\u003eBiological Sciences\u003c/td\u003e\n\u003ctd\u003e4\n\u003c/td\u003e\u003c/tr\u003e\n\u003ctr\u003e\n\u003ctd\u003eBusiness\u003c/td\u003e\n\u003ctd\u003e6\n\u003c/td\u003e\u003c/tr\u003e\n\u003ctr\u003e\n\u003ctd\u003eChemistry\u003c/td\u003e\n\u003ctd\u003e2\n\u003c/td\u003e\u003c/tr\u003e\n\u003ctr\u003e\n\u003ctd\u003eClinical Psychology\u003c/td\u003e\n\u003ctd\u003e10\n\u003c/td\u003e\u003c/tr\u003e\n\u003ctr\u003e\n\u003ctd\u003eComputer Science\u003c/td\u003e\n\u003ctd\u003e16\n\u003c/td\u003e\u003c/tr\u003e\n\u003ctr\u003e\n\u003ctd\u003eEarth Sciences\u003c/td\u003e\n\u003ctd\u003e8\n\u003c/td\u003e\u003c/tr\u003e\n\u003ctr\u003e\n\u003ctd\u003eEconomics\u003c/td\u003e\n\u003ctd\u003e1\n\u003c/td\u003e\u003c/tr\u003e\n\u003ctr\u003e\n\u003ctd\u003eEducation\u003c/td\u003e\n\u003ctd\u003e1\n\u003c/td\u003e\u003c/tr\u003e\n\u003ctr\u003e\n\u003ctd\u003eEngineering\u003c/td\u003e\n\u003ctd\u003e22\n\u003c/td\u003e\u003c/tr\u003e\n\u003ctr\u003e\n\u003ctd\u003eEnglish\u003c/td\u003e\n\u003ctd\u003e8\n\u003c/td\u003e\u003c/tr\u003e\n\u003ctr\u003e\n\u003ctd\u003eHistory\u003c/td\u003e\n\u003ctd\u003e4\n\u003c/td\u003e\u003c/tr\u003e\n\u003ctr\u003e\n\u003ctd\u003eLaw\u003c/td\u003e\n\u003ctd\u003e3\n\u003c/td\u003e\u003c/tr\u003e\n\u003ctr\u003e\n\u003ctd\u003eMathematics\u003c/td\u003e\n\u003ctd\u003e2\n\u003c/td\u003e\u003c/tr\u003e\n\u003ctr\u003e\n\u003ctd\u003eMedicine: Primary Care\u003c/td\u003e\n\u003ctd\u003e10\n\u003c/td\u003e\u003c/tr\u003e\n\u003ctr\u003e\n\u003ctd\u003eMedicine: Research\u003c/td\u003e\n\u003ctd\u003e1\n\u003c/td\u003e\u003c/tr\u003e\n\u003ctr\u003e\n\u003ctd\u003ePhysics\u003c/td\u003e\n\u003ctd\u003e3\n\u003c/td\u003e\u003c/tr\u003e\n\u003ctr\u003e\n\u003ctd\u003ePolitical Science\u003c/td\u003e\n\u003ctd\u003e1\n\u003c/td\u003e\u003c/tr\u003e\n\u003ctr\u003e\n\u003ctd\u003ePsychology\u003c/td\u003e\n\u003ctd\u003e3\n\u003c/td\u003e\u003c/tr\u003e\n\u003ctr\u003e\n\u003ctd\u003ePublic Affairs\u003c/td\u003e\n\u003ctd\u003e3\n\u003c/td\u003e\u003c/tr\u003e\n\u003ctr\u003e\n\u003ctd\u003ePublic Health\u003c/td\u003e\n\u003ctd\u003e2\n\u003c/td\u003e\u003c/tr\u003e\n\u003ctr\u003e\n\u003ctd\u003eSociology\u003c/td\u003e\n\u003ctd\u003e1\n\u003c/td\u003e\u003c/tr\u003e\u003c/tbody\u003e\u003c/table\u003e"
                    },
                    "execution_count": 16,
                    "metadata": {},
                    "output_type": "execute_result"
                }
            ],
            "source": [
                "soup.find(\"table\", \"wikitable\")"
            ]
        },
        {
            "attachments": {},
            "cell_type": "markdown",
            "metadata": {},
            "source": [
                "Since we used `find_all` we get back a list:"
            ]
        },
        {
            "cell_type": "code",
            "execution_count": 24,
            "metadata": {},
            "outputs": [
                {
                    "data": {
                        "text/html": "\u003ctable class=\"wikitable\" style=\"text-align:center; float:right; font-size:85%; margin-right:2em;\"\u003e\n\u003ccaption\u003e\u003ci\u003eStudent demographics (Fall 2019)\u003c/i\u003e\u003csup class=\"reference\" id=\"cite_ref-104\"\u003e\u003ca href=\"#cite_note-104\"\u003e[104]\u003c/a\u003e\u003c/sup\u003e\n\u003c/caption\u003e\n\u003ctbody\u003e\u003ctr\u003e\n\u003cth\u003e\u003c/th\u003e\n\u003cth\u003eUndergrad\u003c/th\u003e\n\u003cth\u003eGrad/prof\n\u003c/th\u003e\u003c/tr\u003e\n\u003ctr\u003e\n\u003cth\u003eAsian\n\u003c/th\u003e\n\u003ctd\u003e21%\u003c/td\u003e\n\u003ctd\u003e13%\n\u003c/td\u003e\u003c/tr\u003e\n\u003ctr\u003e\n\u003cth\u003eBlack\n\u003c/th\u003e\n\u003ctd\u003e9%\u003c/td\u003e\n\u003ctd\u003e5%\n\u003c/td\u003e\u003c/tr\u003e\n\u003ctr\u003e\n\u003cth\u003eHispanic or Latino\n\u003c/th\u003e\n\u003ctd\u003e11%\u003c/td\u003e\n\u003ctd\u003e7%\n\u003c/td\u003e\u003c/tr\u003e\n\u003ctr\u003e\n\u003cth\u003eWhite\n\u003c/th\u003e\n\u003ctd\u003e37%\u003c/td\u003e\n\u003ctd\u003e38%\n\u003c/td\u003e\u003c/tr\u003e\n\u003ctr\u003e\n\u003cth\u003eTwo or more races\n\u003c/th\u003e\n\u003ctd\u003e8%\u003c/td\u003e\n\u003ctd\u003e3%\n\u003c/td\u003e\u003c/tr\u003e\n\u003ctr\u003e\n\u003cth\u003eInternational\n\u003c/th\u003e\n\u003ctd\u003e12%\u003c/td\u003e\n\u003ctd\u003e32%\n\u003c/td\u003e\u003c/tr\u003e\u003c/tbody\u003e\u003c/table\u003e",
                        "text/plain": "\u003cIPython.core.display.HTML object\u003e"
                    },
                    "execution_count": 24,
                    "metadata": {},
                    "output_type": "execute_result"
                }
            ],
            "source": [
                "from IPython.display import HTML\n",
                "HTML(str(table_demographics[0]))"
            ]
        },
        {
            "attachments": {},
            "cell_type": "markdown",
            "metadata": {},
            "source": [
                "First we'll use a list comprehension to extract the rows (*tr*) elements."
            ]
        },
        {
            "cell_type": "code",
            "execution_count": 25,
            "metadata": {
                "scrolled": true
            },
            "outputs": [
                {
                    "data": {
                        "text/plain": "[\u003ctr\u003e\n \u003cth\u003e\u003c/th\u003e\n \u003cth\u003eUndergrad\u003c/th\u003e\n \u003cth\u003eGrad/prof\n \u003c/th\u003e\u003c/tr\u003e,\n \u003ctr\u003e\n \u003cth\u003eAsian\n \u003c/th\u003e\n \u003ctd\u003e21%\u003c/td\u003e\n \u003ctd\u003e13%\n \u003c/td\u003e\u003c/tr\u003e,\n \u003ctr\u003e\n \u003cth\u003eBlack\n \u003c/th\u003e\n \u003ctd\u003e9%\u003c/td\u003e\n \u003ctd\u003e5%\n \u003c/td\u003e\u003c/tr\u003e,\n \u003ctr\u003e\n \u003cth\u003eHispanic or Latino\n \u003c/th\u003e\n \u003ctd\u003e11%\u003c/td\u003e\n \u003ctd\u003e7%\n \u003c/td\u003e\u003c/tr\u003e,\n \u003ctr\u003e\n \u003cth\u003eWhite\n \u003c/th\u003e\n \u003ctd\u003e37%\u003c/td\u003e\n \u003ctd\u003e38%\n \u003c/td\u003e\u003c/tr\u003e,\n \u003ctr\u003e\n \u003cth\u003eTwo or more races\n \u003c/th\u003e\n \u003ctd\u003e8%\u003c/td\u003e\n \u003ctd\u003e3%\n \u003c/td\u003e\u003c/tr\u003e,\n \u003ctr\u003e\n \u003cth\u003eInternational\n \u003c/th\u003e\n \u003ctd\u003e12%\u003c/td\u003e\n \u003ctd\u003e32%\n \u003c/td\u003e\u003c/tr\u003e]"
                    },
                    "execution_count": 25,
                    "metadata": {},
                    "output_type": "execute_result"
                }
            ],
            "source": [
                "rows = [row for row in table_demographics[0].find_all(\"tr\")]\n",
                "rows"
            ]
        },
        {
            "cell_type": "code",
            "execution_count": 26,
            "metadata": {},
            "outputs": [
                {
                    "data": {
                        "text/plain": "\u003ctr\u003e\n\u003cth\u003e\u003c/th\u003e\n\u003cth\u003eUndergrad\u003c/th\u003e\n\u003cth\u003eGrad/prof\n\u003c/th\u003e\u003c/tr\u003e"
                    },
                    "execution_count": 26,
                    "metadata": {},
                    "output_type": "execute_result"
                }
            ],
            "source": [
                "header_row = rows[0]\n",
                "header_row"
            ]
        },
        {
            "attachments": {},
            "cell_type": "markdown",
            "metadata": {},
            "source": [
                "### Splitting the data\n",
                "\n",
                "Next we extract the text value of the columns. If you look at the table above, you'll see that we have two columns and six rows.\n",
                "\n",
                "Here we're taking the first element (Python indexes start at zero), iterating over the *th* elements inside it, and taking the text value of those elements. We should end up with a list of column names.\n",
                "\n",
                "But there is one little caveat: the first column of the table is actually an empty string (look at the cell right above the row names). We could add it to our list and then remove it afterwards; but instead we will use the `if` statement inside the list comprehension to filter that out.\n",
                "\n",
                "Here the `get_text` will return an empty string for the first cell of the table, which means that the test will fail and the value will not be added to the list."
            ]
        },
        {
            "cell_type": "code",
            "execution_count": 27,
            "metadata": {},
            "outputs": [
                {
                    "data": {
                        "text/plain": "['Undergrad', 'Grad/prof\\n']"
                    },
                    "execution_count": 27,
                    "metadata": {},
                    "output_type": "execute_result"
                }
            ],
            "source": [
                "#the if col.get_text() takes care of no-text in the upper left\n",
                "columns = [col.get_text() for col in header_row.find_all(\"th\") if col.get_text()]\n",
                "columns"
            ]
        },
        {
            "cell_type": "code",
            "execution_count": 28,
            "metadata": {},
            "outputs": [],
            "source": [
                "# Lambda expressions return the value of the expression inside it.\n",
                "# In this case, it will return a string with new line characters replaced by spaces.\n",
                "rem_nl = lambda s: s.replace(\"\\n\", \" \")"
            ]
        },
        {
            "cell_type": "code",
            "execution_count": 29,
            "metadata": {},
            "outputs": [
                {
                    "data": {
                        "text/plain": "['Undergrad', 'Grad/prof']"
                    },
                    "execution_count": 29,
                    "metadata": {},
                    "output_type": "execute_result"
                }
            ],
            "source": [
                "columns = [c.strip() for c in columns]\n",
                "columns"
            ]
        },
        {
            "attachments": {},
            "cell_type": "markdown",
            "metadata": {},
            "source": [
                "Now let's do the same for the rows. Notice that since we have already parsed the header row, we will continue from the second row. The `[1:]` is a slice notation and in this case it means we want all values starting from the second position."
            ]
        },
        {
            "cell_type": "code",
            "execution_count": 30,
            "metadata": {},
            "outputs": [
                {
                    "data": {
                        "text/plain": "['Asian',\n 'Black',\n 'Hispanic or Latino',\n 'White',\n 'Two or more races',\n 'International']"
                    },
                    "execution_count": 30,
                    "metadata": {},
                    "output_type": "execute_result"
                }
            ],
            "source": [
                "indexes = [row.find(\"th\").get_text().strip() for row in rows[1:]]\n",
                "indexes"
            ]
        },
        {
            "attachments": {},
            "cell_type": "markdown",
            "metadata": {},
            "source": [
                "We need to transform the string on the \"data\" cells to integers. We start by checking if the last character of the string (Python allows for negative indexes) is a percent sign. If that is true, then we convert the characters before the sign to integers. Lastly, if one of the prior checks fails, we return a value of None."
            ]
        },
        {
            "cell_type": "code",
            "execution_count": 31,
            "metadata": {},
            "outputs": [],
            "source": [
                "def to_num(s):\n",
                "    if s[-1] == \"%\":\n",
                "        return int(s[:-1])\n",
                "    else:\n",
                "        return None"
            ]
        },
        {
            "attachments": {},
            "cell_type": "markdown",
            "metadata": {},
            "source": [
                "As always, we try some stuff and discover we need to strip newlines:"
            ]
        },
        {
            "cell_type": "code",
            "execution_count": 32,
            "metadata": {},
            "outputs": [
                {
                    "name": "stdout",
                    "output_type": "stream",
                    "text": "21%\n13%\n\n"
                }
            ],
            "source": [
                "for value in rows[1].find_all(\"td\"):\n",
                "        print(value.get_text()) # see wierd newline below"
            ]
        },
        {
            "cell_type": "code",
            "execution_count": 33,
            "metadata": {},
            "outputs": [
                {
                    "data": {
                        "text/plain": "[21, 13, 9, 5, 11, 7, 37, 38, 8, 3, 12, 32]"
                    },
                    "execution_count": 33,
                    "metadata": {},
                    "output_type": "execute_result"
                }
            ],
            "source": [
                "values = []\n",
                "for row in rows[1:]:\n",
                "    for value in row.find_all(\"td\"):\n",
                "        values.append(to_num(value.get_text().strip()))\n",
                "values"
            ]
        },
        {
            "attachments": {},
            "cell_type": "markdown",
            "metadata": {},
            "source": [
                "The problem with the list above is that the values lost their grouping.\n",
                "\n",
                "The `zip` function is used to combine two sequences element wise. So `zip([1,2,3], [4,5,6])` would return `[(1, 4), (2, 5), (3, 6)]`.\n",
                "\n",
                "Here we create 2 arrays corresponding to the 2 columns by putting every 2 values in each list"
            ]
        },
        {
            "cell_type": "code",
            "execution_count": 34,
            "metadata": {},
            "outputs": [
                {
                    "data": {
                        "text/plain": "[[21, 9, 11, 37, 8, 12], [13, 5, 7, 38, 3, 32]]"
                    },
                    "execution_count": 34,
                    "metadata": {},
                    "output_type": "execute_result"
                }
            ],
            "source": [
                "stacked_values_lists = [values[i::2] for i in range(len(columns))]\n",
                "stacked_values_lists"
            ]
        },
        {
            "attachments": {},
            "cell_type": "markdown",
            "metadata": {},
            "source": [
                "We then use `zip`. Notice the use of the `*` in front: that converts the list of lists to a set of arguments to `zip`. "
            ]
        },
        {
            "cell_type": "code",
            "execution_count": 35,
            "metadata": {},
            "outputs": [
                {
                    "name": "stdout",
                    "output_type": "stream",
                    "text": "a 1 b 2 c 3\n"
                }
            ],
            "source": [
                "def print_them(a, b, c):\n",
                "    print(\"a\", a, \"b\", b, \"c\", c)\n",
                "print_them(1, 2, 3)"
            ]
        },
        {
            "cell_type": "code",
            "execution_count": 36,
            "metadata": {},
            "outputs": [
                {
                    "name": "stdout",
                    "output_type": "stream",
                    "text": "a 1 b 2 c 3\n"
                }
            ],
            "source": [
                "print_them(*[1, 2, 3])"
            ]
        },
        {
            "cell_type": "code",
            "execution_count": 37,
            "metadata": {},
            "outputs": [
                {
                    "data": {
                        "text/plain": "[(21, 13), (9, 5), (11, 7), (37, 38), (8, 3), (12, 32)]"
                    },
                    "execution_count": 37,
                    "metadata": {},
                    "output_type": "execute_result"
                }
            ],
            "source": [
                "stacked_values=zip(*stacked_values_lists)\n",
                "list(stacked_values)"
            ]
        },
        {
            "cell_type": "code",
            "execution_count": 38,
            "metadata": {},
            "outputs": [
                {
                    "data": {
                        "text/html": "[\u003ctable class=\"wikitable\" style=\"text-align:center; float:right; font-size:85%; margin-right:2em;\"\u003e\n\u003ccaption\u003e\u003ci\u003eStudent demographics (Fall 2019)\u003c/i\u003e\u003csup class=\"reference\" id=\"cite_ref-104\"\u003e\u003ca href=\"#cite_note-104\"\u003e[104]\u003c/a\u003e\u003c/sup\u003e\n\u003c/caption\u003e\n\u003ctbody\u003e\u003ctr\u003e\n\u003cth\u003e\u003c/th\u003e\n\u003cth\u003eUndergrad\u003c/th\u003e\n\u003cth\u003eGrad/prof\n\u003c/th\u003e\u003c/tr\u003e\n\u003ctr\u003e\n\u003cth\u003eAsian\n\u003c/th\u003e\n\u003ctd\u003e21%\u003c/td\u003e\n\u003ctd\u003e13%\n\u003c/td\u003e\u003c/tr\u003e\n\u003ctr\u003e\n\u003cth\u003eBlack\n\u003c/th\u003e\n\u003ctd\u003e9%\u003c/td\u003e\n\u003ctd\u003e5%\n\u003c/td\u003e\u003c/tr\u003e\n\u003ctr\u003e\n\u003cth\u003eHispanic or Latino\n\u003c/th\u003e\n\u003ctd\u003e11%\u003c/td\u003e\n\u003ctd\u003e7%\n\u003c/td\u003e\u003c/tr\u003e\n\u003ctr\u003e\n\u003cth\u003eWhite\n\u003c/th\u003e\n\u003ctd\u003e37%\u003c/td\u003e\n\u003ctd\u003e38%\n\u003c/td\u003e\u003c/tr\u003e\n\u003ctr\u003e\n\u003cth\u003eTwo or more races\n\u003c/th\u003e\n\u003ctd\u003e8%\u003c/td\u003e\n\u003ctd\u003e3%\n\u003c/td\u003e\u003c/tr\u003e\n\u003ctr\u003e\n\u003cth\u003eInternational\n\u003c/th\u003e\n\u003ctd\u003e12%\u003c/td\u003e\n\u003ctd\u003e32%\n\u003c/td\u003e\u003c/tr\u003e\u003c/tbody\u003e\u003c/table\u003e]",
                        "text/plain": "\u003cIPython.core.display.HTML object\u003e"
                    },
                    "execution_count": 38,
                    "metadata": {},
                    "output_type": "execute_result"
                }
            ],
            "source": [
                "# Here's the original HTML table for visual understanding\n",
                "HTML(str(table_demographics))"
            ]
        },
        {
            "attachments": {},
            "cell_type": "markdown",
            "metadata": {},
            "source": [
                "---\n",
                "\n",
                "##  Putting things into Pandas\n",
                "\n",
                "### Dataframes\n",
                "\n",
                "To recap, we now have three data structures holding our column names, our row (index) names, and our values grouped by index.\n",
                "\n",
                "We will now load this data into a Pandas Dataframe. The loading process is pretty straightforward, and all we need to do is tell Pandas which container goes where.\n",
                ""
            ]
        },
        {
            "cell_type": "code",
            "execution_count": 39,
            "metadata": {},
            "outputs": [],
            "source": [
                "import pandas as pd"
            ]
        },
        {
            "cell_type": "code",
            "execution_count": 40,
            "metadata": {},
            "outputs": [
                {
                    "data": {
                        "text/plain": "[]"
                    },
                    "execution_count": 40,
                    "metadata": {},
                    "output_type": "execute_result"
                }
            ],
            "source": [
                "list(stacked_values)"
            ]
        },
        {
            "attachments": {},
            "cell_type": "markdown",
            "metadata": {},
            "source": [
                "Wait! What happened?\n",
                "\n",
                "Remember that `stacked_values` waz a zip object. We ran a `list(stacked_values)` to print it. But this had an unfortunate side effect. It **exhausted the iterator**, by iterating over the zip. Nothing was left. So we'll need to redefine the zip first. And we'll name it a bit better"
            ]
        },
        {
            "cell_type": "code",
            "execution_count": 41,
            "metadata": {},
            "outputs": [],
            "source": [
                "stacked_values_iterator = zip(*stacked_values_lists)"
            ]
        },
        {
            "attachments": {},
            "cell_type": "markdown",
            "metadata": {},
            "source": [
                "Labeling variables like this follows the philosophy of [Hungarian Notation](https://en.wikipedia.org/wiki/Hungarian_notation). Use sparingly, when its critical to the understanding of your code, like here"
            ]
        },
        {
            "cell_type": "code",
            "execution_count": 42,
            "metadata": {},
            "outputs": [
                {
                    "data": {
                        "text/html": "\u003cdiv\u003e\n\u003cstyle scoped\u003e\n    .dataframe tbody tr th:only-of-type {\n        vertical-align: middle;\n    }\n\n    .dataframe tbody tr th {\n        vertical-align: top;\n    }\n\n    .dataframe thead th {\n        text-align: right;\n    }\n\u003c/style\u003e\n\u003ctable border=\"1\" class=\"dataframe\"\u003e\n  \u003cthead\u003e\n    \u003ctr style=\"text-align: right;\"\u003e\n      \u003cth\u003e\u003c/th\u003e\n      \u003cth\u003eUndergrad\u003c/th\u003e\n      \u003cth\u003eGrad/prof\u003c/th\u003e\n    \u003c/tr\u003e\n  \u003c/thead\u003e\n  \u003ctbody\u003e\n    \u003ctr\u003e\n      \u003cth\u003eAsian\u003c/th\u003e\n      \u003ctd\u003e21\u003c/td\u003e\n      \u003ctd\u003e13\u003c/td\u003e\n    \u003c/tr\u003e\n    \u003ctr\u003e\n      \u003cth\u003eBlack\u003c/th\u003e\n      \u003ctd\u003e9\u003c/td\u003e\n      \u003ctd\u003e5\u003c/td\u003e\n    \u003c/tr\u003e\n    \u003ctr\u003e\n      \u003cth\u003eHispanic or Latino\u003c/th\u003e\n      \u003ctd\u003e11\u003c/td\u003e\n      \u003ctd\u003e7\u003c/td\u003e\n    \u003c/tr\u003e\n    \u003ctr\u003e\n      \u003cth\u003eWhite\u003c/th\u003e\n      \u003ctd\u003e37\u003c/td\u003e\n      \u003ctd\u003e38\u003c/td\u003e\n    \u003c/tr\u003e\n    \u003ctr\u003e\n      \u003cth\u003eTwo or more races\u003c/th\u003e\n      \u003ctd\u003e8\u003c/td\u003e\n      \u003ctd\u003e3\u003c/td\u003e\n    \u003c/tr\u003e\n    \u003ctr\u003e\n      \u003cth\u003eInternational\u003c/th\u003e\n      \u003ctd\u003e12\u003c/td\u003e\n      \u003ctd\u003e32\u003c/td\u003e\n    \u003c/tr\u003e\n  \u003c/tbody\u003e\n\u003c/table\u003e\n\u003c/div\u003e",
                        "text/plain": "                    Undergrad  Grad/prof\nAsian                      21         13\nBlack                       9          5\nHispanic or Latino         11          7\nWhite                      37         38\nTwo or more races           8          3\nInternational              12         32"
                    },
                    "execution_count": 42,
                    "metadata": {},
                    "output_type": "execute_result"
                }
            ],
            "source": [
                "df = pd.DataFrame(list(stacked_values_iterator), columns=columns, index=indexes)\n",
                "df"
            ]
        },
        {
            "attachments": {},
            "cell_type": "markdown",
            "metadata": {},
            "source": [
                "---\n",
                "\n",
                "#### Other ways to create the Dataframe\n",
                "\n",
                "That was one of many ways to construct a dataframe. Here is another that uses a list of dictionaries:\n",
                "\n",
                "First we combine the list and dictionary comprehensions to get a list of dictionaries representing each row in the data."
            ]
        },
        {
            "cell_type": "code",
            "execution_count": 43,
            "metadata": {},
            "outputs": [
                {
                    "data": {
                        "text/plain": "[{'Undergrad': 21, 'Grad/prof': 13},\n {'Undergrad': 9, 'Grad/prof': 5},\n {'Undergrad': 11, 'Grad/prof': 7},\n {'Undergrad': 37, 'Grad/prof': 38},\n {'Undergrad': 8, 'Grad/prof': 3},\n {'Undergrad': 12, 'Grad/prof': 32}]"
                    },
                    "execution_count": 43,
                    "metadata": {},
                    "output_type": "execute_result"
                }
            ],
            "source": [
                "stacked_values_iterator = zip(*stacked_values_lists)\n",
                "data_dicts = [{col: val for col, val in zip(columns, col_values)} for col_values in stacked_values_iterator]\n",
                "data_dicts"
            ]
        },
        {
            "cell_type": "code",
            "execution_count": 44,
            "metadata": {},
            "outputs": [
                {
                    "data": {
                        "text/html": "\u003cdiv\u003e\n\u003cstyle scoped\u003e\n    .dataframe tbody tr th:only-of-type {\n        vertical-align: middle;\n    }\n\n    .dataframe tbody tr th {\n        vertical-align: top;\n    }\n\n    .dataframe thead th {\n        text-align: right;\n    }\n\u003c/style\u003e\n\u003ctable border=\"1\" class=\"dataframe\"\u003e\n  \u003cthead\u003e\n    \u003ctr style=\"text-align: right;\"\u003e\n      \u003cth\u003e\u003c/th\u003e\n      \u003cth\u003eUndergrad\u003c/th\u003e\n      \u003cth\u003eGrad/prof\u003c/th\u003e\n    \u003c/tr\u003e\n  \u003c/thead\u003e\n  \u003ctbody\u003e\n    \u003ctr\u003e\n      \u003cth\u003eAsian\u003c/th\u003e\n      \u003ctd\u003e21\u003c/td\u003e\n      \u003ctd\u003e13\u003c/td\u003e\n    \u003c/tr\u003e\n    \u003ctr\u003e\n      \u003cth\u003eBlack\u003c/th\u003e\n      \u003ctd\u003e9\u003c/td\u003e\n      \u003ctd\u003e5\u003c/td\u003e\n    \u003c/tr\u003e\n    \u003ctr\u003e\n      \u003cth\u003eHispanic or Latino\u003c/th\u003e\n      \u003ctd\u003e11\u003c/td\u003e\n      \u003ctd\u003e7\u003c/td\u003e\n    \u003c/tr\u003e\n    \u003ctr\u003e\n      \u003cth\u003eWhite\u003c/th\u003e\n      \u003ctd\u003e37\u003c/td\u003e\n      \u003ctd\u003e38\u003c/td\u003e\n    \u003c/tr\u003e\n    \u003ctr\u003e\n      \u003cth\u003eTwo or more races\u003c/th\u003e\n      \u003ctd\u003e8\u003c/td\u003e\n      \u003ctd\u003e3\u003c/td\u003e\n    \u003c/tr\u003e\n    \u003ctr\u003e\n      \u003cth\u003eInternational\u003c/th\u003e\n      \u003ctd\u003e12\u003c/td\u003e\n      \u003ctd\u003e32\u003c/td\u003e\n    \u003c/tr\u003e\n  \u003c/tbody\u003e\n\u003c/table\u003e\n\u003c/div\u003e",
                        "text/plain": "                    Undergrad  Grad/prof\nAsian                      21         13\nBlack                       9          5\nHispanic or Latino         11          7\nWhite                      37         38\nTwo or more races           8          3\nInternational              12         32"
                    },
                    "execution_count": 44,
                    "metadata": {},
                    "output_type": "execute_result"
                }
            ],
            "source": [
                "pd.DataFrame(data_dicts, index=indexes)"
            ]
        },
        {
            "attachments": {},
            "cell_type": "markdown",
            "metadata": {},
            "source": [
                "And yet another that uses a dictionary of lists:\n",
                "\n",
                "To achieve this we group the values columnwise..."
            ]
        },
        {
            "cell_type": "code",
            "execution_count": 45,
            "metadata": {},
            "outputs": [
                {
                    "data": {
                        "text/plain": "[[21, 9, 11, 37, 8, 12], [13, 5, 7, 38, 3, 32]]"
                    },
                    "execution_count": 45,
                    "metadata": {},
                    "output_type": "execute_result"
                }
            ],
            "source": [
                "stacked_by_col = [values[i::2] for i in range(len(columns))]\n",
                "stacked_by_col"
            ]
        },
        {
            "attachments": {},
            "cell_type": "markdown",
            "metadata": {},
            "source": [
                "and then revert the pattern we used to create a list of dictionaries."
            ]
        },
        {
            "cell_type": "code",
            "execution_count": 46,
            "metadata": {},
            "outputs": [
                {
                    "data": {
                        "text/plain": "{'Undergrad': [21, 9, 11, 37, 8, 12], 'Grad/prof': [13, 5, 7, 38, 3, 32]}"
                    },
                    "execution_count": 46,
                    "metadata": {},
                    "output_type": "execute_result"
                }
            ],
            "source": [
                "data_lists = {col: val for col, val in zip(columns, stacked_by_col)}\n",
                "data_lists"
            ]
        },
        {
            "cell_type": "code",
            "execution_count": 47,
            "metadata": {},
            "outputs": [
                {
                    "data": {
                        "text/html": "\u003cdiv\u003e\n\u003cstyle scoped\u003e\n    .dataframe tbody tr th:only-of-type {\n        vertical-align: middle;\n    }\n\n    .dataframe tbody tr th {\n        vertical-align: top;\n    }\n\n    .dataframe thead th {\n        text-align: right;\n    }\n\u003c/style\u003e\n\u003ctable border=\"1\" class=\"dataframe\"\u003e\n  \u003cthead\u003e\n    \u003ctr style=\"text-align: right;\"\u003e\n      \u003cth\u003e\u003c/th\u003e\n      \u003cth\u003eUndergrad\u003c/th\u003e\n      \u003cth\u003eGrad/prof\u003c/th\u003e\n    \u003c/tr\u003e\n  \u003c/thead\u003e\n  \u003ctbody\u003e\n    \u003ctr\u003e\n      \u003cth\u003eAsian\u003c/th\u003e\n      \u003ctd\u003e21\u003c/td\u003e\n      \u003ctd\u003e13\u003c/td\u003e\n    \u003c/tr\u003e\n    \u003ctr\u003e\n      \u003cth\u003eBlack\u003c/th\u003e\n      \u003ctd\u003e9\u003c/td\u003e\n      \u003ctd\u003e5\u003c/td\u003e\n    \u003c/tr\u003e\n    \u003ctr\u003e\n      \u003cth\u003eHispanic or Latino\u003c/th\u003e\n      \u003ctd\u003e11\u003c/td\u003e\n      \u003ctd\u003e7\u003c/td\u003e\n    \u003c/tr\u003e\n    \u003ctr\u003e\n      \u003cth\u003eWhite\u003c/th\u003e\n      \u003ctd\u003e37\u003c/td\u003e\n      \u003ctd\u003e38\u003c/td\u003e\n    \u003c/tr\u003e\n    \u003ctr\u003e\n      \u003cth\u003eTwo or more races\u003c/th\u003e\n      \u003ctd\u003e8\u003c/td\u003e\n      \u003ctd\u003e3\u003c/td\u003e\n    \u003c/tr\u003e\n    \u003ctr\u003e\n      \u003cth\u003eInternational\u003c/th\u003e\n      \u003ctd\u003e12\u003c/td\u003e\n      \u003ctd\u003e32\u003c/td\u003e\n    \u003c/tr\u003e\n  \u003c/tbody\u003e\n\u003c/table\u003e\n\u003c/div\u003e",
                        "text/plain": "                    Undergrad  Grad/prof\nAsian                      21         13\nBlack                       9          5\nHispanic or Latino         11          7\nWhite                      37         38\nTwo or more races           8          3\nInternational              12         32"
                    },
                    "execution_count": 47,
                    "metadata": {},
                    "output_type": "execute_result"
                }
            ],
            "source": [
                "pd.DataFrame(data_lists, index=indexes)"
            ]
        }
    ]
}
