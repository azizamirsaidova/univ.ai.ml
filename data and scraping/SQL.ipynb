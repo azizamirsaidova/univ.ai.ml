{
    "metadata": {
        "kernelspec": {
            "name": "python3",
            "display_name": "Python 3",
            "language": "python"
        }
    },
    "nbformat": 4,
    "nbformat_minor": 4,
    "cells": [
        {
            "attachments": {},
            "cell_type": "markdown",
            "metadata": {},
            "source": [
                "# Grammar of Data: Pandas and SQL"
            ]
        },
        {
            "attachments": {},
            "cell_type": "markdown",
            "metadata": {},
            "source": [
                "## Part 1: Pandas"
            ]
        },
        {
            "cell_type": "code",
            "execution_count": 1,
            "metadata": {},
            "outputs": [],
            "source": [
                "#Import Pandas library\n",
                "import pandas as pd"
            ]
        },
        {
            "attachments": {},
            "cell_type": "markdown",
            "metadata": {},
            "source": [
                "We first need to load in our CSV file as a Pandas dataframe. The easiest way to do this is to simply use Pandas `read_csv` function. \n",
                "\n",
                "Let's look at the first 3 lines of the file (data/candidates.txt):\n",
                "\n",
                "```\n",
                "id|first_name|last_name|middle_name|party\n",
                "\n",
                "33|  Joseph  |  Biden  |           |  D\n",
                "\n",
                "36|  Samuel  |Brownback|           |  R\n",
                "```\n",
                "\n",
                "Observe that each entry is separated by a pipe '|'. Since the default separator for the `read_csv` function is a comma, we will have to specify this separator when we call the function."
            ]
        },
        {
            "cell_type": "code",
            "execution_count": 2,
            "metadata": {},
            "outputs": [
                {
                    "data": {
                        "text/html": "\u003cdiv\u003e\n\u003cstyle scoped\u003e\n    .dataframe tbody tr th:only-of-type {\n        vertical-align: middle;\n    }\n\n    .dataframe tbody tr th {\n        vertical-align: top;\n    }\n\n    .dataframe thead th {\n        text-align: right;\n    }\n\u003c/style\u003e\n\u003ctable border=\"1\" class=\"dataframe\"\u003e\n  \u003cthead\u003e\n    \u003ctr style=\"text-align: right;\"\u003e\n      \u003cth\u003e\u003c/th\u003e\n      \u003cth\u003eid\u003c/th\u003e\n      \u003cth\u003efirst_name\u003c/th\u003e\n      \u003cth\u003elast_name\u003c/th\u003e\n      \u003cth\u003emiddle_name\u003c/th\u003e\n      \u003cth\u003eparty\u003c/th\u003e\n    \u003c/tr\u003e\n  \u003c/thead\u003e\n  \u003ctbody\u003e\n    \u003ctr\u003e\n      \u003cth\u003e0\u003c/th\u003e\n      \u003ctd\u003e33\u003c/td\u003e\n      \u003ctd\u003eJoseph\u003c/td\u003e\n      \u003ctd\u003eBiden\u003c/td\u003e\n      \u003ctd\u003eNaN\u003c/td\u003e\n      \u003ctd\u003eD\u003c/td\u003e\n    \u003c/tr\u003e\n    \u003ctr\u003e\n      \u003cth\u003e1\u003c/th\u003e\n      \u003ctd\u003e36\u003c/td\u003e\n      \u003ctd\u003eSamuel\u003c/td\u003e\n      \u003ctd\u003eBrownback\u003c/td\u003e\n      \u003ctd\u003eNaN\u003c/td\u003e\n      \u003ctd\u003eR\u003c/td\u003e\n    \u003c/tr\u003e\n    \u003ctr\u003e\n      \u003cth\u003e2\u003c/th\u003e\n      \u003ctd\u003e34\u003c/td\u003e\n      \u003ctd\u003eHillary\u003c/td\u003e\n      \u003ctd\u003eClinton\u003c/td\u003e\n      \u003ctd\u003eR.\u003c/td\u003e\n      \u003ctd\u003eD\u003c/td\u003e\n    \u003c/tr\u003e\n    \u003ctr\u003e\n      \u003cth\u003e3\u003c/th\u003e\n      \u003ctd\u003e39\u003c/td\u003e\n      \u003ctd\u003eChristopher\u003c/td\u003e\n      \u003ctd\u003eDodd\u003c/td\u003e\n      \u003ctd\u003eJ.\u003c/td\u003e\n      \u003ctd\u003eD\u003c/td\u003e\n    \u003c/tr\u003e\n    \u003ctr\u003e\n      \u003cth\u003e4\u003c/th\u003e\n      \u003ctd\u003e26\u003c/td\u003e\n      \u003ctd\u003eJohn\u003c/td\u003e\n      \u003ctd\u003eEdwards\u003c/td\u003e\n      \u003ctd\u003eNaN\u003c/td\u003e\n      \u003ctd\u003eD\u003c/td\u003e\n    \u003c/tr\u003e\n    \u003ctr\u003e\n      \u003cth\u003e5\u003c/th\u003e\n      \u003ctd\u003e22\u003c/td\u003e\n      \u003ctd\u003eRudolph\u003c/td\u003e\n      \u003ctd\u003eGiuliani\u003c/td\u003e\n      \u003ctd\u003eNaN\u003c/td\u003e\n      \u003ctd\u003eR\u003c/td\u003e\n    \u003c/tr\u003e\n    \u003ctr\u003e\n      \u003cth\u003e6\u003c/th\u003e\n      \u003ctd\u003e24\u003c/td\u003e\n      \u003ctd\u003eMike\u003c/td\u003e\n      \u003ctd\u003eGravel\u003c/td\u003e\n      \u003ctd\u003eNaN\u003c/td\u003e\n      \u003ctd\u003eD\u003c/td\u003e\n    \u003c/tr\u003e\n    \u003ctr\u003e\n      \u003cth\u003e7\u003c/th\u003e\n      \u003ctd\u003e16\u003c/td\u003e\n      \u003ctd\u003eMike\u003c/td\u003e\n      \u003ctd\u003eHuckabee\u003c/td\u003e\n      \u003ctd\u003eNaN\u003c/td\u003e\n      \u003ctd\u003eR\u003c/td\u003e\n    \u003c/tr\u003e\n    \u003ctr\u003e\n      \u003cth\u003e8\u003c/th\u003e\n      \u003ctd\u003e30\u003c/td\u003e\n      \u003ctd\u003eDuncan\u003c/td\u003e\n      \u003ctd\u003eHunter\u003c/td\u003e\n      \u003ctd\u003eNaN\u003c/td\u003e\n      \u003ctd\u003eR\u003c/td\u003e\n    \u003c/tr\u003e\n    \u003ctr\u003e\n      \u003cth\u003e9\u003c/th\u003e\n      \u003ctd\u003e31\u003c/td\u003e\n      \u003ctd\u003eDennis\u003c/td\u003e\n      \u003ctd\u003eKucinich\u003c/td\u003e\n      \u003ctd\u003eNaN\u003c/td\u003e\n      \u003ctd\u003eD\u003c/td\u003e\n    \u003c/tr\u003e\n    \u003ctr\u003e\n      \u003cth\u003e10\u003c/th\u003e\n      \u003ctd\u003e37\u003c/td\u003e\n      \u003ctd\u003eJohn\u003c/td\u003e\n      \u003ctd\u003eMcCain\u003c/td\u003e\n      \u003ctd\u003eNaN\u003c/td\u003e\n      \u003ctd\u003eR\u003c/td\u003e\n    \u003c/tr\u003e\n    \u003ctr\u003e\n      \u003cth\u003e11\u003c/th\u003e\n      \u003ctd\u003e20\u003c/td\u003e\n      \u003ctd\u003eBarack\u003c/td\u003e\n      \u003ctd\u003eObama\u003c/td\u003e\n      \u003ctd\u003eNaN\u003c/td\u003e\n      \u003ctd\u003eD\u003c/td\u003e\n    \u003c/tr\u003e\n    \u003ctr\u003e\n      \u003cth\u003e12\u003c/th\u003e\n      \u003ctd\u003e32\u003c/td\u003e\n      \u003ctd\u003eRon\u003c/td\u003e\n      \u003ctd\u003ePaul\u003c/td\u003e\n      \u003ctd\u003eNaN\u003c/td\u003e\n      \u003ctd\u003eR\u003c/td\u003e\n    \u003c/tr\u003e\n    \u003ctr\u003e\n      \u003cth\u003e13\u003c/th\u003e\n      \u003ctd\u003e29\u003c/td\u003e\n      \u003ctd\u003eBill\u003c/td\u003e\n      \u003ctd\u003eRichardson\u003c/td\u003e\n      \u003ctd\u003eNaN\u003c/td\u003e\n      \u003ctd\u003eD\u003c/td\u003e\n    \u003c/tr\u003e\n    \u003ctr\u003e\n      \u003cth\u003e14\u003c/th\u003e\n      \u003ctd\u003e35\u003c/td\u003e\n      \u003ctd\u003eMitt\u003c/td\u003e\n      \u003ctd\u003eRomney\u003c/td\u003e\n      \u003ctd\u003eNaN\u003c/td\u003e\n      \u003ctd\u003eR\u003c/td\u003e\n    \u003c/tr\u003e\n    \u003ctr\u003e\n      \u003cth\u003e15\u003c/th\u003e\n      \u003ctd\u003e38\u003c/td\u003e\n      \u003ctd\u003eTom\u003c/td\u003e\n      \u003ctd\u003eTancredo\u003c/td\u003e\n      \u003ctd\u003eNaN\u003c/td\u003e\n      \u003ctd\u003eR\u003c/td\u003e\n    \u003c/tr\u003e\n    \u003ctr\u003e\n      \u003cth\u003e16\u003c/th\u003e\n      \u003ctd\u003e41\u003c/td\u003e\n      \u003ctd\u003eFred\u003c/td\u003e\n      \u003ctd\u003eThompson\u003c/td\u003e\n      \u003ctd\u003eD.\u003c/td\u003e\n      \u003ctd\u003eR\u003c/td\u003e\n    \u003c/tr\u003e\n  \u003c/tbody\u003e\n\u003c/table\u003e\n\u003c/div\u003e",
                        "text/plain": "    id   first_name   last_name middle_name party\n0   33       Joseph       Biden         NaN     D\n1   36       Samuel   Brownback         NaN     R\n2   34      Hillary     Clinton          R.     D\n3   39  Christopher        Dodd          J.     D\n4   26         John     Edwards         NaN     D\n5   22      Rudolph    Giuliani         NaN     R\n6   24         Mike      Gravel         NaN     D\n7   16         Mike    Huckabee         NaN     R\n8   30       Duncan      Hunter         NaN     R\n9   31       Dennis    Kucinich         NaN     D\n10  37         John      McCain         NaN     R\n11  20       Barack       Obama         NaN     D\n12  32          Ron        Paul         NaN     R\n13  29         Bill  Richardson         NaN     D\n14  35         Mitt      Romney         NaN     R\n15  38          Tom    Tancredo         NaN     R\n16  41         Fred    Thompson          D.     R"
                    },
                    "execution_count": 2,
                    "metadata": {},
                    "output_type": "execute_result"
                }
            ],
            "source": [
                "### edTest(test_candloading) ###\n",
                "#Get the data using pandas read_csv\n",
                "\n",
                "dfcand=pd.read_csv(\"data/candidates.txt\", \"|\" )\n",
                "dfcand"
            ]
        },
        {
            "attachments": {},
            "cell_type": "markdown",
            "metadata": {},
            "source": [
                "Next, let us also load in the \"contributors_with_candidate_id.txt\" file that has the people who have contributed money to candidates.\n",
                "\n",
                "Lets again take a look at the first three lines before loading in the data:\n",
                "\n",
                "```\n",
                "id|last_name|first_name|middle_name|street_1|street_2|city|state|zip|amount|date|candidate_id\n",
                "\n",
                "  |   Agee  |  Steven  |           |549 Laurel Branch Road||Floyd|VA|24091|500.00|2007-06-30|16\n",
                "\n",
                "  |  Ahrens |   Don    |           |4034 Rennellwood Way||Pleasanton|CA|94566|250.00|2007-05-16|16\n",
                "```"
            ]
        },
        {
            "cell_type": "code",
            "execution_count": 3,
            "metadata": {},
            "outputs": [
                {
                    "data": {
                        "text/html": "\u003cdiv\u003e\n\u003cstyle scoped\u003e\n    .dataframe tbody tr th:only-of-type {\n        vertical-align: middle;\n    }\n\n    .dataframe tbody tr th {\n        vertical-align: top;\n    }\n\n    .dataframe thead th {\n        text-align: right;\n    }\n\u003c/style\u003e\n\u003ctable border=\"1\" class=\"dataframe\"\u003e\n  \u003cthead\u003e\n    \u003ctr style=\"text-align: right;\"\u003e\n      \u003cth\u003e\u003c/th\u003e\n      \u003cth\u003eid\u003c/th\u003e\n      \u003cth\u003elast_name\u003c/th\u003e\n      \u003cth\u003efirst_name\u003c/th\u003e\n      \u003cth\u003emiddle_name\u003c/th\u003e\n      \u003cth\u003estreet_1\u003c/th\u003e\n      \u003cth\u003estreet_2\u003c/th\u003e\n      \u003cth\u003ecity\u003c/th\u003e\n      \u003cth\u003estate\u003c/th\u003e\n      \u003cth\u003ezip\u003c/th\u003e\n      \u003cth\u003eamount\u003c/th\u003e\n      \u003cth\u003edate\u003c/th\u003e\n      \u003cth\u003ecandidate_id\u003c/th\u003e\n    \u003c/tr\u003e\n  \u003c/thead\u003e\n  \u003ctbody\u003e\n    \u003ctr\u003e\n      \u003cth\u003e0\u003c/th\u003e\n      \u003ctd\u003eNaN\u003c/td\u003e\n      \u003ctd\u003eAgee\u003c/td\u003e\n      \u003ctd\u003eSteven\u003c/td\u003e\n      \u003ctd\u003eNaN\u003c/td\u003e\n      \u003ctd\u003e549 Laurel Branch Road\u003c/td\u003e\n      \u003ctd\u003eNaN\u003c/td\u003e\n      \u003ctd\u003eFloyd\u003c/td\u003e\n      \u003ctd\u003eVA\u003c/td\u003e\n      \u003ctd\u003e24091\u003c/td\u003e\n      \u003ctd\u003e500.0\u003c/td\u003e\n      \u003ctd\u003e2007-06-30\u003c/td\u003e\n      \u003ctd\u003e16\u003c/td\u003e\n    \u003c/tr\u003e\n    \u003ctr\u003e\n      \u003cth\u003e1\u003c/th\u003e\n      \u003ctd\u003eNaN\u003c/td\u003e\n      \u003ctd\u003eAhrens\u003c/td\u003e\n      \u003ctd\u003eDon\u003c/td\u003e\n      \u003ctd\u003eNaN\u003c/td\u003e\n      \u003ctd\u003e4034 Rennellwood Way\u003c/td\u003e\n      \u003ctd\u003eNaN\u003c/td\u003e\n      \u003ctd\u003ePleasanton\u003c/td\u003e\n      \u003ctd\u003eCA\u003c/td\u003e\n      \u003ctd\u003e94566\u003c/td\u003e\n      \u003ctd\u003e250.0\u003c/td\u003e\n      \u003ctd\u003e2007-05-16\u003c/td\u003e\n      \u003ctd\u003e16\u003c/td\u003e\n    \u003c/tr\u003e\n    \u003ctr\u003e\n      \u003cth\u003e2\u003c/th\u003e\n      \u003ctd\u003eNaN\u003c/td\u003e\n      \u003ctd\u003eAhrens\u003c/td\u003e\n      \u003ctd\u003eDon\u003c/td\u003e\n      \u003ctd\u003eNaN\u003c/td\u003e\n      \u003ctd\u003e4034 Rennellwood Way\u003c/td\u003e\n      \u003ctd\u003eNaN\u003c/td\u003e\n      \u003ctd\u003ePleasanton\u003c/td\u003e\n      \u003ctd\u003eCA\u003c/td\u003e\n      \u003ctd\u003e94566\u003c/td\u003e\n      \u003ctd\u003e50.0\u003c/td\u003e\n      \u003ctd\u003e2007-06-18\u003c/td\u003e\n      \u003ctd\u003e16\u003c/td\u003e\n    \u003c/tr\u003e\n    \u003ctr\u003e\n      \u003cth\u003e3\u003c/th\u003e\n      \u003ctd\u003eNaN\u003c/td\u003e\n      \u003ctd\u003eAhrens\u003c/td\u003e\n      \u003ctd\u003eDon\u003c/td\u003e\n      \u003ctd\u003eNaN\u003c/td\u003e\n      \u003ctd\u003e4034 Rennellwood Way\u003c/td\u003e\n      \u003ctd\u003eNaN\u003c/td\u003e\n      \u003ctd\u003ePleasanton\u003c/td\u003e\n      \u003ctd\u003eCA\u003c/td\u003e\n      \u003ctd\u003e94566\u003c/td\u003e\n      \u003ctd\u003e100.0\u003c/td\u003e\n      \u003ctd\u003e2007-06-21\u003c/td\u003e\n      \u003ctd\u003e16\u003c/td\u003e\n    \u003c/tr\u003e\n    \u003ctr\u003e\n      \u003cth\u003e4\u003c/th\u003e\n      \u003ctd\u003eNaN\u003c/td\u003e\n      \u003ctd\u003eAkin\u003c/td\u003e\n      \u003ctd\u003eCharles\u003c/td\u003e\n      \u003ctd\u003eNaN\u003c/td\u003e\n      \u003ctd\u003e10187 Sugar Creek Road\u003c/td\u003e\n      \u003ctd\u003eNaN\u003c/td\u003e\n      \u003ctd\u003eBentonville\u003c/td\u003e\n      \u003ctd\u003eAR\u003c/td\u003e\n      \u003ctd\u003e72712\u003c/td\u003e\n      \u003ctd\u003e100.0\u003c/td\u003e\n      \u003ctd\u003e2007-06-16\u003c/td\u003e\n      \u003ctd\u003e16\u003c/td\u003e\n    \u003c/tr\u003e\n  \u003c/tbody\u003e\n\u003c/table\u003e\n\u003c/div\u003e",
                        "text/plain": "   id last_name first_name middle_name                street_1 street_2  \\\n0 NaN      Agee     Steven         NaN  549 Laurel Branch Road      NaN   \n1 NaN    Ahrens        Don         NaN    4034 Rennellwood Way      NaN   \n2 NaN    Ahrens        Don         NaN    4034 Rennellwood Way      NaN   \n3 NaN    Ahrens        Don         NaN    4034 Rennellwood Way      NaN   \n4 NaN      Akin    Charles         NaN  10187 Sugar Creek Road      NaN   \n\n          city state    zip  amount        date  candidate_id  \n0        Floyd    VA  24091   500.0  2007-06-30            16  \n1   Pleasanton    CA  94566   250.0  2007-05-16            16  \n2   Pleasanton    CA  94566    50.0  2007-06-18            16  \n3   Pleasanton    CA  94566   100.0  2007-06-21            16  \n4  Bentonville    AR  72712   100.0  2007-06-16            16  "
                    },
                    "execution_count": 3,
                    "metadata": {},
                    "output_type": "execute_result"
                }
            ],
            "source": [
                "### edTest(test_contloading) ###\n",
                "\n",
                "#access the data of the second txt file \"contributors_with_candidate_id.txt\" using the same format\n",
                "dfcwci=pd.read_csv(\"data/contributors_with_candidate_id.txt\",\"|\")\n",
                "dfcwci.head()"
            ]
        },
        {
            "attachments": {},
            "cell_type": "markdown",
            "metadata": {},
            "source": [
                "You'll notice that the contributions dont have the first column, so we will need to clean things up a bit..."
            ]
        },
        {
            "cell_type": "code",
            "execution_count": 4,
            "metadata": {},
            "outputs": [
                {
                    "data": {
                        "text/html": "\u003cdiv\u003e\n\u003cstyle scoped\u003e\n    .dataframe tbody tr th:only-of-type {\n        vertical-align: middle;\n    }\n\n    .dataframe tbody tr th {\n        vertical-align: top;\n    }\n\n    .dataframe thead th {\n        text-align: right;\n    }\n\u003c/style\u003e\n\u003ctable border=\"1\" class=\"dataframe\"\u003e\n  \u003cthead\u003e\n    \u003ctr style=\"text-align: right;\"\u003e\n      \u003cth\u003e\u003c/th\u003e\n      \u003cth\u003elast_name\u003c/th\u003e\n      \u003cth\u003efirst_name\u003c/th\u003e\n      \u003cth\u003emiddle_name\u003c/th\u003e\n      \u003cth\u003estreet_1\u003c/th\u003e\n      \u003cth\u003estreet_2\u003c/th\u003e\n      \u003cth\u003ecity\u003c/th\u003e\n      \u003cth\u003estate\u003c/th\u003e\n      \u003cth\u003ezip\u003c/th\u003e\n      \u003cth\u003eamount\u003c/th\u003e\n      \u003cth\u003edate\u003c/th\u003e\n      \u003cth\u003ecandidate_id\u003c/th\u003e\n    \u003c/tr\u003e\n  \u003c/thead\u003e\n  \u003ctbody\u003e\n    \u003ctr\u003e\n      \u003cth\u003e0\u003c/th\u003e\n      \u003ctd\u003eAgee\u003c/td\u003e\n      \u003ctd\u003eSteven\u003c/td\u003e\n      \u003ctd\u003eNaN\u003c/td\u003e\n      \u003ctd\u003e549 Laurel Branch Road\u003c/td\u003e\n      \u003ctd\u003eNaN\u003c/td\u003e\n      \u003ctd\u003eFloyd\u003c/td\u003e\n      \u003ctd\u003eVA\u003c/td\u003e\n      \u003ctd\u003e24091\u003c/td\u003e\n      \u003ctd\u003e500.0\u003c/td\u003e\n      \u003ctd\u003e2007-06-30\u003c/td\u003e\n      \u003ctd\u003e16\u003c/td\u003e\n    \u003c/tr\u003e\n    \u003ctr\u003e\n      \u003cth\u003e1\u003c/th\u003e\n      \u003ctd\u003eAhrens\u003c/td\u003e\n      \u003ctd\u003eDon\u003c/td\u003e\n      \u003ctd\u003eNaN\u003c/td\u003e\n      \u003ctd\u003e4034 Rennellwood Way\u003c/td\u003e\n      \u003ctd\u003eNaN\u003c/td\u003e\n      \u003ctd\u003ePleasanton\u003c/td\u003e\n      \u003ctd\u003eCA\u003c/td\u003e\n      \u003ctd\u003e94566\u003c/td\u003e\n      \u003ctd\u003e250.0\u003c/td\u003e\n      \u003ctd\u003e2007-05-16\u003c/td\u003e\n      \u003ctd\u003e16\u003c/td\u003e\n    \u003c/tr\u003e\n    \u003ctr\u003e\n      \u003cth\u003e2\u003c/th\u003e\n      \u003ctd\u003eAhrens\u003c/td\u003e\n      \u003ctd\u003eDon\u003c/td\u003e\n      \u003ctd\u003eNaN\u003c/td\u003e\n      \u003ctd\u003e4034 Rennellwood Way\u003c/td\u003e\n      \u003ctd\u003eNaN\u003c/td\u003e\n      \u003ctd\u003ePleasanton\u003c/td\u003e\n      \u003ctd\u003eCA\u003c/td\u003e\n      \u003ctd\u003e94566\u003c/td\u003e\n      \u003ctd\u003e50.0\u003c/td\u003e\n      \u003ctd\u003e2007-06-18\u003c/td\u003e\n      \u003ctd\u003e16\u003c/td\u003e\n    \u003c/tr\u003e\n    \u003ctr\u003e\n      \u003cth\u003e3\u003c/th\u003e\n      \u003ctd\u003eAhrens\u003c/td\u003e\n      \u003ctd\u003eDon\u003c/td\u003e\n      \u003ctd\u003eNaN\u003c/td\u003e\n      \u003ctd\u003e4034 Rennellwood Way\u003c/td\u003e\n      \u003ctd\u003eNaN\u003c/td\u003e\n      \u003ctd\u003ePleasanton\u003c/td\u003e\n      \u003ctd\u003eCA\u003c/td\u003e\n      \u003ctd\u003e94566\u003c/td\u003e\n      \u003ctd\u003e100.0\u003c/td\u003e\n      \u003ctd\u003e2007-06-21\u003c/td\u003e\n      \u003ctd\u003e16\u003c/td\u003e\n    \u003c/tr\u003e\n    \u003ctr\u003e\n      \u003cth\u003e4\u003c/th\u003e\n      \u003ctd\u003eAkin\u003c/td\u003e\n      \u003ctd\u003eCharles\u003c/td\u003e\n      \u003ctd\u003eNaN\u003c/td\u003e\n      \u003ctd\u003e10187 Sugar Creek Road\u003c/td\u003e\n      \u003ctd\u003eNaN\u003c/td\u003e\n      \u003ctd\u003eBentonville\u003c/td\u003e\n      \u003ctd\u003eAR\u003c/td\u003e\n      \u003ctd\u003e72712\u003c/td\u003e\n      \u003ctd\u003e100.0\u003c/td\u003e\n      \u003ctd\u003e2007-06-16\u003c/td\u003e\n      \u003ctd\u003e16\u003c/td\u003e\n    \u003c/tr\u003e\n  \u003c/tbody\u003e\n\u003c/table\u003e\n\u003c/div\u003e",
                        "text/plain": "  last_name first_name middle_name                street_1 street_2  \\\n0      Agee     Steven         NaN  549 Laurel Branch Road      NaN   \n1    Ahrens        Don         NaN    4034 Rennellwood Way      NaN   \n2    Ahrens        Don         NaN    4034 Rennellwood Way      NaN   \n3    Ahrens        Don         NaN    4034 Rennellwood Way      NaN   \n4      Akin    Charles         NaN  10187 Sugar Creek Road      NaN   \n\n          city state    zip  amount        date  candidate_id  \n0        Floyd    VA  24091   500.0  2007-06-30            16  \n1   Pleasanton    CA  94566   250.0  2007-05-16            16  \n2   Pleasanton    CA  94566    50.0  2007-06-18            16  \n3   Pleasanton    CA  94566   100.0  2007-06-21            16  \n4  Bentonville    AR  72712   100.0  2007-06-16            16  "
                    },
                    "execution_count": 4,
                    "metadata": {},
                    "output_type": "execute_result"
                }
            ],
            "source": [
                "del dfcwci['id']\n",
                "dfcwci.head()"
            ]
        },
        {
            "attachments": {},
            "cell_type": "markdown",
            "metadata": {},
            "source": [
                "## Part 2: SQLITE"
            ]
        },
        {
            "attachments": {},
            "cell_type": "markdown",
            "metadata": {},
            "source": [
                "Now, lets start with Relational Databases. We use SQLITE here. Sqlite is a on-file database, as opposed to other common databases such as Oracle and Postgres, which run as different processes on your system. Python implements a standard database API over all databases. Its called DBAPI2. It works across many SQL databases.\n",
                "\n",
                "The available attributes are constrained by a \"header\" tuple of attributes which set the type. We do this below, using the SQL language to set things up."
            ]
        },
        {
            "cell_type": "code",
            "execution_count": 5,
            "metadata": {},
            "outputs": [],
            "source": [
                "#lets create a schema to work on our data using SQL\n",
                "ourschema=\"\"\"\n",
                "DROP TABLE IF EXISTS \"candidates\";\n",
                "DROP TABLE IF EXISTS \"contributors\";\n",
                "CREATE TABLE \"candidates\" (\n",
                "    \"id\" INTEGER PRIMARY KEY  NOT NULL ,\n",
                "    \"first_name\" VARCHAR,\n",
                "    \"last_name\" VARCHAR,\n",
                "    \"middle_name\" VARCHAR,\n",
                "    \"party\" VARCHAR NOT NULL\n",
                ");\n",
                "CREATE TABLE \"contributors\" (\n",
                "    \"id\" INTEGER PRIMARY KEY  AUTOINCREMENT  NOT NULL,\n",
                "    \"last_name\" VARCHAR,\n",
                "    \"first_name\" VARCHAR,\n",
                "    \"middle_name\" VARCHAR,\n",
                "    \"street_1\" VARCHAR,\n",
                "    \"street_2\" VARCHAR,\n",
                "    \"city\" VARCHAR,\n",
                "    \"state\" VARCHAR,\n",
                "    \"zip\" VARCHAR, -- Notice that we are converting the zip from integer to string\n",
                "    \"amount\" INTEGER,\n",
                "    \"date\" DATETIME,\n",
                "    \"candidate_id\" INTEGER NOT NULL,\n",
                "    FOREIGN KEY(candidate_id) REFERENCES candidates(id)\n",
                ");\n",
                "\"\"\""
            ]
        },
        {
            "attachments": {},
            "cell_type": "markdown",
            "metadata": {},
            "source": [
                "Now we'll write some functions to connect to Sqlite.\n",
                "\n",
                "### Step 1: Connect and get a DBAPI2 connection."
            ]
        },
        {
            "cell_type": "code",
            "execution_count": 6,
            "metadata": {},
            "outputs": [],
            "source": [
                "from sqlite3 import dbapi2 as sq3\n",
                "from pathlib import Path\n",
                "PATHSTART=\".\"\n",
                "def get_db(dbfile):\n",
                "    sqlite_db = sq3.connect(Path(PATHSTART) / dbfile)\n",
                "    return sqlite_db"
            ]
        },
        {
            "attachments": {},
            "cell_type": "markdown",
            "metadata": {},
            "source": [
                "### Step 2: Set up the database with tables"
            ]
        },
        {
            "cell_type": "code",
            "execution_count": 7,
            "metadata": {},
            "outputs": [],
            "source": [
                "def init_db(dbfile, schema):\n",
                "    \"\"\"Creates the database tables.\"\"\"\n",
                "    db = get_db(dbfile) \n",
                "    db.cursor().executescript(schema)\n",
                "    db.commit()\n",
                "    return db"
            ]
        },
        {
            "attachments": {},
            "cell_type": "markdown",
            "metadata": {},
            "source": [
                "Initializing the database:"
            ]
        },
        {
            "cell_type": "code",
            "execution_count": 8,
            "metadata": {},
            "outputs": [],
            "source": [
                "db=init_db(\"/tmp/cancont.db\", ourschema)"
            ]
        },
        {
            "attachments": {},
            "cell_type": "markdown",
            "metadata": {},
            "source": [
                "### Step 3: Populate with Pandas"
            ]
        },
        {
            "cell_type": "code",
            "execution_count": 9,
            "metadata": {},
            "outputs": [],
            "source": [
                "#Converts into a SQL Database\n",
                "dfcand.to_sql(\"candidates\", db, if_exists=\"append\", index=False)\n",
                "dfcwci.to_sql(\"contributors\", db, if_exists=\"append\", index=False)"
            ]
        },
        {
            "attachments": {},
            "cell_type": "markdown",
            "metadata": {},
            "source": [
                "### Step 4: Query the database"
            ]
        },
        {
            "cell_type": "code",
            "execution_count": 10,
            "metadata": {},
            "outputs": [],
            "source": [
                "#Defining a function to make a query\n",
                "def make_query(sel):\n",
                "    c=db.cursor().execute(sel)\n",
                "    return c.fetchall()"
            ]
        },
        {
            "cell_type": "code",
            "execution_count": 11,
            "metadata": {},
            "outputs": [],
            "source": [
                "#Defining a function to convert the ouputs to a pandas dataframe\n",
                "#Import OrderedDict to remember the order in which keys were inserted\n",
                "from collections import OrderedDict\n",
                "def make_frame(list_of_tuples, legend):\n",
                "    framelist=[]\n",
                "    for i, cname in enumerate(legend):\n",
                "        framelist.append((cname,[e[i] for e in list_of_tuples]))\n",
                "    return pd.DataFrame.from_dict(OrderedDict(framelist)) "
            ]
        },
        {
            "cell_type": "code",
            "execution_count": 12,
            "metadata": {},
            "outputs": [
                {
                    "data": {
                        "text/plain": "['id', 'first_name', 'last_name', 'middle_name', 'party']"
                    },
                    "execution_count": 12,
                    "metadata": {},
                    "output_type": "execute_result"
                }
            ],
            "source": [
                "#Checking the columns of candidate table\n",
                "candidate_cols = [e[1] for e in make_query(\"PRAGMA table_info(candidates);\")]\n",
                "candidate_cols"
            ]
        },
        {
            "cell_type": "code",
            "execution_count": 13,
            "metadata": {},
            "outputs": [
                {
                    "data": {
                        "text/plain": "['id',\n 'last_name',\n 'first_name',\n 'middle_name',\n 'street_1',\n 'street_2',\n 'city',\n 'state',\n 'zip',\n 'amount',\n 'date',\n 'candidate_id']"
                    },
                    "execution_count": 13,
                    "metadata": {},
                    "output_type": "execute_result"
                }
            ],
            "source": [
                "#Checking the columns of contributors table\n",
                "contributor_cols = [e[1] for e in make_query(\"PRAGMA table_info(contributors);\")]\n",
                "contributor_cols"
            ]
        },
        {
            "attachments": {},
            "cell_type": "markdown",
            "metadata": {},
            "source": [
                "Test that it works..."
            ]
        },
        {
            "cell_type": "code",
            "execution_count": 14,
            "metadata": {},
            "outputs": [
                {
                    "data": {
                        "text/html": "\u003cdiv\u003e\n\u003cstyle scoped\u003e\n    .dataframe tbody tr th:only-of-type {\n        vertical-align: middle;\n    }\n\n    .dataframe tbody tr th {\n        vertical-align: top;\n    }\n\n    .dataframe thead th {\n        text-align: right;\n    }\n\u003c/style\u003e\n\u003ctable border=\"1\" class=\"dataframe\"\u003e\n  \u003cthead\u003e\n    \u003ctr style=\"text-align: right;\"\u003e\n      \u003cth\u003e\u003c/th\u003e\n      \u003cth\u003eid\u003c/th\u003e\n      \u003cth\u003efirst_name\u003c/th\u003e\n      \u003cth\u003elast_name\u003c/th\u003e\n      \u003cth\u003emiddle_name\u003c/th\u003e\n      \u003cth\u003eparty\u003c/th\u003e\n    \u003c/tr\u003e\n  \u003c/thead\u003e\n  \u003ctbody\u003e\n    \u003ctr\u003e\n      \u003cth\u003e0\u003c/th\u003e\n      \u003ctd\u003e16\u003c/td\u003e\n      \u003ctd\u003eMike\u003c/td\u003e\n      \u003ctd\u003eHuckabee\u003c/td\u003e\n      \u003ctd\u003eNone\u003c/td\u003e\n      \u003ctd\u003eR\u003c/td\u003e\n    \u003c/tr\u003e\n    \u003ctr\u003e\n      \u003cth\u003e1\u003c/th\u003e\n      \u003ctd\u003e20\u003c/td\u003e\n      \u003ctd\u003eBarack\u003c/td\u003e\n      \u003ctd\u003eObama\u003c/td\u003e\n      \u003ctd\u003eNone\u003c/td\u003e\n      \u003ctd\u003eD\u003c/td\u003e\n    \u003c/tr\u003e\n    \u003ctr\u003e\n      \u003cth\u003e2\u003c/th\u003e\n      \u003ctd\u003e22\u003c/td\u003e\n      \u003ctd\u003eRudolph\u003c/td\u003e\n      \u003ctd\u003eGiuliani\u003c/td\u003e\n      \u003ctd\u003eNone\u003c/td\u003e\n      \u003ctd\u003eR\u003c/td\u003e\n    \u003c/tr\u003e\n    \u003ctr\u003e\n      \u003cth\u003e3\u003c/th\u003e\n      \u003ctd\u003e24\u003c/td\u003e\n      \u003ctd\u003eMike\u003c/td\u003e\n      \u003ctd\u003eGravel\u003c/td\u003e\n      \u003ctd\u003eNone\u003c/td\u003e\n      \u003ctd\u003eD\u003c/td\u003e\n    \u003c/tr\u003e\n    \u003ctr\u003e\n      \u003cth\u003e4\u003c/th\u003e\n      \u003ctd\u003e26\u003c/td\u003e\n      \u003ctd\u003eJohn\u003c/td\u003e\n      \u003ctd\u003eEdwards\u003c/td\u003e\n      \u003ctd\u003eNone\u003c/td\u003e\n      \u003ctd\u003eD\u003c/td\u003e\n    \u003c/tr\u003e\n    \u003ctr\u003e\n      \u003cth\u003e5\u003c/th\u003e\n      \u003ctd\u003e29\u003c/td\u003e\n      \u003ctd\u003eBill\u003c/td\u003e\n      \u003ctd\u003eRichardson\u003c/td\u003e\n      \u003ctd\u003eNone\u003c/td\u003e\n      \u003ctd\u003eD\u003c/td\u003e\n    \u003c/tr\u003e\n    \u003ctr\u003e\n      \u003cth\u003e6\u003c/th\u003e\n      \u003ctd\u003e30\u003c/td\u003e\n      \u003ctd\u003eDuncan\u003c/td\u003e\n      \u003ctd\u003eHunter\u003c/td\u003e\n      \u003ctd\u003eNone\u003c/td\u003e\n      \u003ctd\u003eR\u003c/td\u003e\n    \u003c/tr\u003e\n    \u003ctr\u003e\n      \u003cth\u003e7\u003c/th\u003e\n      \u003ctd\u003e31\u003c/td\u003e\n      \u003ctd\u003eDennis\u003c/td\u003e\n      \u003ctd\u003eKucinich\u003c/td\u003e\n      \u003ctd\u003eNone\u003c/td\u003e\n      \u003ctd\u003eD\u003c/td\u003e\n    \u003c/tr\u003e\n    \u003ctr\u003e\n      \u003cth\u003e8\u003c/th\u003e\n      \u003ctd\u003e32\u003c/td\u003e\n      \u003ctd\u003eRon\u003c/td\u003e\n      \u003ctd\u003ePaul\u003c/td\u003e\n      \u003ctd\u003eNone\u003c/td\u003e\n      \u003ctd\u003eR\u003c/td\u003e\n    \u003c/tr\u003e\n    \u003ctr\u003e\n      \u003cth\u003e9\u003c/th\u003e\n      \u003ctd\u003e33\u003c/td\u003e\n      \u003ctd\u003eJoseph\u003c/td\u003e\n      \u003ctd\u003eBiden\u003c/td\u003e\n      \u003ctd\u003eNone\u003c/td\u003e\n      \u003ctd\u003eD\u003c/td\u003e\n    \u003c/tr\u003e\n    \u003ctr\u003e\n      \u003cth\u003e10\u003c/th\u003e\n      \u003ctd\u003e34\u003c/td\u003e\n      \u003ctd\u003eHillary\u003c/td\u003e\n      \u003ctd\u003eClinton\u003c/td\u003e\n      \u003ctd\u003eR.\u003c/td\u003e\n      \u003ctd\u003eD\u003c/td\u003e\n    \u003c/tr\u003e\n    \u003ctr\u003e\n      \u003cth\u003e11\u003c/th\u003e\n      \u003ctd\u003e35\u003c/td\u003e\n      \u003ctd\u003eMitt\u003c/td\u003e\n      \u003ctd\u003eRomney\u003c/td\u003e\n      \u003ctd\u003eNone\u003c/td\u003e\n      \u003ctd\u003eR\u003c/td\u003e\n    \u003c/tr\u003e\n    \u003ctr\u003e\n      \u003cth\u003e12\u003c/th\u003e\n      \u003ctd\u003e36\u003c/td\u003e\n      \u003ctd\u003eSamuel\u003c/td\u003e\n      \u003ctd\u003eBrownback\u003c/td\u003e\n      \u003ctd\u003eNone\u003c/td\u003e\n      \u003ctd\u003eR\u003c/td\u003e\n    \u003c/tr\u003e\n    \u003ctr\u003e\n      \u003cth\u003e13\u003c/th\u003e\n      \u003ctd\u003e37\u003c/td\u003e\n      \u003ctd\u003eJohn\u003c/td\u003e\n      \u003ctd\u003eMcCain\u003c/td\u003e\n      \u003ctd\u003eNone\u003c/td\u003e\n      \u003ctd\u003eR\u003c/td\u003e\n    \u003c/tr\u003e\n    \u003ctr\u003e\n      \u003cth\u003e14\u003c/th\u003e\n      \u003ctd\u003e38\u003c/td\u003e\n      \u003ctd\u003eTom\u003c/td\u003e\n      \u003ctd\u003eTancredo\u003c/td\u003e\n      \u003ctd\u003eNone\u003c/td\u003e\n      \u003ctd\u003eR\u003c/td\u003e\n    \u003c/tr\u003e\n    \u003ctr\u003e\n      \u003cth\u003e15\u003c/th\u003e\n      \u003ctd\u003e39\u003c/td\u003e\n      \u003ctd\u003eChristopher\u003c/td\u003e\n      \u003ctd\u003eDodd\u003c/td\u003e\n      \u003ctd\u003eJ.\u003c/td\u003e\n      \u003ctd\u003eD\u003c/td\u003e\n    \u003c/tr\u003e\n    \u003ctr\u003e\n      \u003cth\u003e16\u003c/th\u003e\n      \u003ctd\u003e41\u003c/td\u003e\n      \u003ctd\u003eFred\u003c/td\u003e\n      \u003ctd\u003eThompson\u003c/td\u003e\n      \u003ctd\u003eD.\u003c/td\u003e\n      \u003ctd\u003eR\u003c/td\u003e\n    \u003c/tr\u003e\n  \u003c/tbody\u003e\n\u003c/table\u003e\n\u003c/div\u003e",
                        "text/plain": "    id   first_name   last_name middle_name party\n0   16         Mike    Huckabee        None     R\n1   20       Barack       Obama        None     D\n2   22      Rudolph    Giuliani        None     R\n3   24         Mike      Gravel        None     D\n4   26         John     Edwards        None     D\n5   29         Bill  Richardson        None     D\n6   30       Duncan      Hunter        None     R\n7   31       Dennis    Kucinich        None     D\n8   32          Ron        Paul        None     R\n9   33       Joseph       Biden        None     D\n10  34      Hillary     Clinton          R.     D\n11  35         Mitt      Romney        None     R\n12  36       Samuel   Brownback        None     R\n13  37         John      McCain        None     R\n14  38          Tom    Tancredo        None     R\n15  39  Christopher        Dodd          J.     D\n16  41         Fred    Thompson          D.     R"
                    },
                    "execution_count": 14,
                    "metadata": {},
                    "output_type": "execute_result"
                }
            ],
            "source": [
                "out=make_query(\"SELECT * FROM candidates;\")\n",
                "#Create a dataframe\n",
                "make_frame(out, legend=candidate_cols)"
            ]
        },
        {
            "attachments": {},
            "cell_type": "markdown",
            "metadata": {},
            "source": [
                "## Part 3: The Grammar of Data"
            ]
        },
        {
            "attachments": {},
            "cell_type": "markdown",
            "metadata": {},
            "source": [
                "\u003ctable\u003e\n",
                "  \u003ctr\u003e\n",
                "    \u003cth\u003e\u003cb\u003eVERB\u003c/b\u003e\u003c/th\u003e\n",
                "    \u003cth\u003e\u003cb\u003edplyr\u003c/b\u003e\u003c/th\u003e\n",
                "    \u003cth\u003e\u003cb\u003epandas\u003c/b\u003e\u003c/th\u003e\n",
                "    \u003cth\u003e\u003cb\u003eSQL\u003c/b\u003e\u003c/th\u003e\n",
                "  \u003c/tr\u003e\n",
                "  \u003ctr\u003e\n",
                "    \u003ctd\u003eQUERY/SELECTION\u003c/td\u003e\n",
                "    \u003ctd\u003efilter() (and slice())\u003c/td\u003e\n",
                "    \u003ctd\u003equery() (and loc[], iloc[])\u003c/td\u003e\n",
                "    \u003ctd\u003eSELECT WHERE\u003c/td\u003e\n",
                "  \u003c/tr\u003e\n",
                "  \u003ctr\u003e\n",
                "    \u003ctd\u003eSORT\u003c/td\u003e\n",
                "    \u003ctd\u003earrange()\u003c/td\u003e\n",
                "    \u003ctd\u003esort_values()\u003c/td\u003e\n",
                "    \u003ctd\u003eORDER BY\u003c/td\u003e\n",
                "  \u003c/tr\u003e\n",
                "  \u003ctr\u003e\n",
                "    \u003ctd\u003eSELECT-COLUMNS/PROJECTION\u003c/td\u003e\n",
                "    \u003ctd\u003eselect() (and rename())\u003c/td\u003e\n",
                "    \u003ctd\u003e[](__getitem__) (and rename())\u003c/td\u003e\n",
                "    \u003ctd\u003eSELECT COLUMN\u003c/td\u003e\n",
                "  \u003c/tr\u003e\n",
                "  \u003ctr\u003e\n",
                "    \u003ctd\u003eSELECT-DISTINCT\u003c/td\u003e\n",
                "    \u003ctd\u003edistinct()\u003c/td\u003e\n",
                "    \u003ctd\u003eunique(),drop_duplicates()\u003c/td\u003e\n",
                "    \u003ctd\u003eSELECT DISTINCT COLUMN\u003c/td\u003e\n",
                "  \u003c/tr\u003e\n",
                "  \u003ctr\u003e\n",
                "    \u003ctd\u003eASSIGN\u003c/td\u003e\n",
                "    \u003ctd\u003emutate() (and transmute())\u003c/td\u003e\n",
                "    \u003ctd\u003eassign\u003c/td\u003e\n",
                "    \u003ctd\u003eALTER/UPDATE\u003c/td\u003e\n",
                "  \u003c/tr\u003e\n",
                "  \u003ctr\u003e\n",
                "    \u003ctd\u003eAGGREGATE\u003c/td\u003e\n",
                "    \u003ctd\u003esummarise()\u003c/td\u003e\n",
                "    \u003ctd\u003edescribe(), mean(), max()\u003c/td\u003e\n",
                "    \u003ctd\u003eNone, AVG(),MAX()\u003c/td\u003e\n",
                "  \u003c/tr\u003e\n",
                "  \u003ctr\u003e\n",
                "    \u003ctd\u003eSAMPLE\u003c/td\u003e\n",
                "    \u003ctd\u003esample_n() and sample_frac()\u003c/td\u003e\n",
                "    \u003ctd\u003esample()\u003c/td\u003e\n",
                "    \u003ctd\u003eimplementation dep, use RAND()\u003c/td\u003e\n",
                "  \u003c/tr\u003e\n",
                "  \u003ctr\u003e\n",
                "    \u003ctd\u003eGROUP-AGG\u003c/td\u003e\n",
                "    \u003ctd\u003egroup_by/summarize\u003c/td\u003e\n",
                "    \u003ctd\u003egroupby/agg, count, mean\u003c/td\u003e\n",
                "    \u003ctd\u003eGROUP BY\u003c/td\u003e\n",
                "  \u003c/tr\u003e\n",
                "  \u003ctr\u003e\n",
                "    \u003ctd\u003eDELETE\u003c/td\u003e\n",
                "    \u003ctd\u003e?\u003c/td\u003e\n",
                "    \u003ctd\u003edrop/masking\u003c/td\u003e\n",
                "    \u003ctd\u003eDELETE/WHERE\u003c/td\u003e\n",
                "  \u003c/tr\u003e\n",
                "\u003c/table\u003e\n",
                ""
            ]
        },
        {
            "attachments": {},
            "cell_type": "markdown",
            "metadata": {},
            "source": [
                "Now let's learn a few of these by answering a few questions! "
            ]
        },
        {
            "attachments": {},
            "cell_type": "markdown",
            "metadata": {},
            "source": [
                "### Q1: Find the columns for which the *state* is NULL"
            ]
        },
        {
            "attachments": {},
            "cell_type": "markdown",
            "metadata": {},
            "source": [
                "#### Q1.1: How do you do it in Pandas?"
            ]
        },
        {
            "cell_type": "code",
            "execution_count": 15,
            "metadata": {},
            "outputs": [
                {
                    "data": {
                        "text/html": "\u003cdiv\u003e\n\u003cstyle scoped\u003e\n    .dataframe tbody tr th:only-of-type {\n        vertical-align: middle;\n    }\n\n    .dataframe tbody tr th {\n        vertical-align: top;\n    }\n\n    .dataframe thead th {\n        text-align: right;\n    }\n\u003c/style\u003e\n\u003ctable border=\"1\" class=\"dataframe\"\u003e\n  \u003cthead\u003e\n    \u003ctr style=\"text-align: right;\"\u003e\n      \u003cth\u003e\u003c/th\u003e\n      \u003cth\u003elast_name\u003c/th\u003e\n      \u003cth\u003efirst_name\u003c/th\u003e\n      \u003cth\u003emiddle_name\u003c/th\u003e\n      \u003cth\u003estreet_1\u003c/th\u003e\n      \u003cth\u003estreet_2\u003c/th\u003e\n      \u003cth\u003ecity\u003c/th\u003e\n      \u003cth\u003estate\u003c/th\u003e\n      \u003cth\u003ezip\u003c/th\u003e\n      \u003cth\u003eamount\u003c/th\u003e\n      \u003cth\u003edate\u003c/th\u003e\n      \u003cth\u003ecandidate_id\u003c/th\u003e\n    \u003c/tr\u003e\n  \u003c/thead\u003e\n  \u003ctbody\u003e\n    \u003ctr\u003e\n      \u003cth\u003e125\u003c/th\u003e\n      \u003ctd\u003eBOURNE\u003c/td\u003e\n      \u003ctd\u003eTRAVIS\u003c/td\u003e\n      \u003ctd\u003eNaN\u003c/td\u003e\n      \u003ctd\u003eLAGE KAART 77\u003c/td\u003e\n      \u003ctd\u003eNaN\u003c/td\u003e\n      \u003ctd\u003eBRASSCHATT\u003c/td\u003e\n      \u003ctd\u003eNaN\u003c/td\u003e\n      \u003ctd\u003e2930\u003c/td\u003e\n      \u003ctd\u003e-500.0\u003c/td\u003e\n      \u003ctd\u003e2008-11-20\u003c/td\u003e\n      \u003ctd\u003e35\u003c/td\u003e\n    \u003c/tr\u003e\n  \u003c/tbody\u003e\n\u003c/table\u003e\n\u003c/div\u003e",
                        "text/plain": "    last_name first_name middle_name       street_1 street_2        city  \\\n125    BOURNE     TRAVIS         NaN  LAGE KAART 77      NaN  BRASSCHATT   \n\n    state   zip  amount        date  candidate_id  \n125   NaN  2930  -500.0  2008-11-20            35  "
                    },
                    "execution_count": 15,
                    "metadata": {},
                    "output_type": "execute_result"
                }
            ],
            "source": [
                "### edTest(test_null) ###\n",
                "dfcwci_null=dfcwci[dfcwci.state.isnull()]\n",
                "dfcwci_null"
            ]
        },
        {
            "attachments": {},
            "cell_type": "markdown",
            "metadata": {},
            "source": [
                "#### Q1.2: How do you do it in SQL?"
            ]
        },
        {
            "cell_type": "code",
            "execution_count": 16,
            "metadata": {},
            "outputs": [
                {
                    "data": {
                        "text/html": "\u003cdiv\u003e\n\u003cstyle scoped\u003e\n    .dataframe tbody tr th:only-of-type {\n        vertical-align: middle;\n    }\n\n    .dataframe tbody tr th {\n        vertical-align: top;\n    }\n\n    .dataframe thead th {\n        text-align: right;\n    }\n\u003c/style\u003e\n\u003ctable border=\"1\" class=\"dataframe\"\u003e\n  \u003cthead\u003e\n    \u003ctr style=\"text-align: right;\"\u003e\n      \u003cth\u003e\u003c/th\u003e\n      \u003cth\u003eid\u003c/th\u003e\n      \u003cth\u003elast_name\u003c/th\u003e\n      \u003cth\u003efirst_name\u003c/th\u003e\n      \u003cth\u003emiddle_name\u003c/th\u003e\n      \u003cth\u003estreet_1\u003c/th\u003e\n      \u003cth\u003estreet_2\u003c/th\u003e\n      \u003cth\u003ecity\u003c/th\u003e\n      \u003cth\u003estate\u003c/th\u003e\n      \u003cth\u003ezip\u003c/th\u003e\n      \u003cth\u003eamount\u003c/th\u003e\n      \u003cth\u003edate\u003c/th\u003e\n      \u003cth\u003ecandidate_id\u003c/th\u003e\n    \u003c/tr\u003e\n  \u003c/thead\u003e\n  \u003ctbody\u003e\n    \u003ctr\u003e\n      \u003cth\u003e0\u003c/th\u003e\n      \u003ctd\u003e126\u003c/td\u003e\n      \u003ctd\u003eBOURNE\u003c/td\u003e\n      \u003ctd\u003eTRAVIS\u003c/td\u003e\n      \u003ctd\u003eNone\u003c/td\u003e\n      \u003ctd\u003eLAGE KAART 77\u003c/td\u003e\n      \u003ctd\u003eNone\u003c/td\u003e\n      \u003ctd\u003eBRASSCHATT\u003c/td\u003e\n      \u003ctd\u003eNone\u003c/td\u003e\n      \u003ctd\u003e2930\u003c/td\u003e\n      \u003ctd\u003e-500\u003c/td\u003e\n      \u003ctd\u003e2008-11-20\u003c/td\u003e\n      \u003ctd\u003e35\u003c/td\u003e\n    \u003c/tr\u003e\n  \u003c/tbody\u003e\n\u003c/table\u003e\n\u003c/div\u003e",
                        "text/plain": "    id last_name first_name middle_name       street_1 street_2        city  \\\n0  126    BOURNE     TRAVIS        None  LAGE KAART 77     None  BRASSCHATT   \n\n  state   zip  amount        date  candidate_id  \n0  None  2930    -500  2008-11-20            35  "
                    },
                    "execution_count": 16,
                    "metadata": {},
                    "output_type": "execute_result"
                }
            ],
            "source": [
                "out=make_query(\"SELECT * FROM contributors WHERE state IS NULL\")\n",
                "db_null=make_frame(out, legend=contributor_cols)\n",
                "db_null"
            ]
        },
        {
            "attachments": {},
            "cell_type": "markdown",
            "metadata": {},
            "source": [
                "### Q2: Sort contributors by the amount they contributed in ascending and descending order "
            ]
        },
        {
            "attachments": {},
            "cell_type": "markdown",
            "metadata": {},
            "source": [
                "#### Q2.1 How do you do it in Pandas?\n",
                "\n",
                "##### First, let's see it in ascending order."
            ]
        },
        {
            "cell_type": "code",
            "execution_count": 17,
            "metadata": {},
            "outputs": [
                {
                    "data": {
                        "text/html": "\u003cdiv\u003e\n\u003cstyle scoped\u003e\n    .dataframe tbody tr th:only-of-type {\n        vertical-align: middle;\n    }\n\n    .dataframe tbody tr th {\n        vertical-align: top;\n    }\n\n    .dataframe thead th {\n        text-align: right;\n    }\n\u003c/style\u003e\n\u003ctable border=\"1\" class=\"dataframe\"\u003e\n  \u003cthead\u003e\n    \u003ctr style=\"text-align: right;\"\u003e\n      \u003cth\u003e\u003c/th\u003e\n      \u003cth\u003elast_name\u003c/th\u003e\n      \u003cth\u003efirst_name\u003c/th\u003e\n      \u003cth\u003emiddle_name\u003c/th\u003e\n      \u003cth\u003estreet_1\u003c/th\u003e\n      \u003cth\u003estreet_2\u003c/th\u003e\n      \u003cth\u003ecity\u003c/th\u003e\n      \u003cth\u003estate\u003c/th\u003e\n      \u003cth\u003ezip\u003c/th\u003e\n      \u003cth\u003eamount\u003c/th\u003e\n      \u003cth\u003edate\u003c/th\u003e\n      \u003cth\u003ecandidate_id\u003c/th\u003e\n    \u003c/tr\u003e\n  \u003c/thead\u003e\n  \u003ctbody\u003e\n    \u003ctr\u003e\n      \u003cth\u003e90\u003c/th\u003e\n      \u003ctd\u003eKazor\u003c/td\u003e\n      \u003ctd\u003eChristopher\u003c/td\u003e\n      \u003ctd\u003eM\u003c/td\u003e\n      \u003ctd\u003e707 Spindletree ave\u003c/td\u003e\n      \u003ctd\u003eNaN\u003c/td\u003e\n      \u003ctd\u003eNaperville\u003c/td\u003e\n      \u003ctd\u003eIL\u003c/td\u003e\n      \u003ctd\u003e60565\u003c/td\u003e\n      \u003ctd\u003e-2592.0\u003c/td\u003e\n      \u003ctd\u003e2008-04-21\u003c/td\u003e\n      \u003ctd\u003e32\u003c/td\u003e\n    \u003c/tr\u003e\n    \u003ctr\u003e\n      \u003cth\u003e72\u003c/th\u003e\n      \u003ctd\u003eBRUNO\u003c/td\u003e\n      \u003ctd\u003eJOHN\u003c/td\u003e\n      \u003ctd\u003eNaN\u003c/td\u003e\n      \u003ctd\u003e10136 WINDERMERE CHASE BLVD.\u003c/td\u003e\n      \u003ctd\u003eNaN\u003c/td\u003e\n      \u003ctd\u003eGOTHA\u003c/td\u003e\n      \u003ctd\u003eFL\u003c/td\u003e\n      \u003ctd\u003e347344707\u003c/td\u003e\n      \u003ctd\u003e-2300.0\u003c/td\u003e\n      \u003ctd\u003e2008-03-06\u003c/td\u003e\n      \u003ctd\u003e22\u003c/td\u003e\n    \u003c/tr\u003e\n    \u003ctr\u003e\n      \u003cth\u003e64\u003c/th\u003e\n      \u003ctd\u003eBURKE\u003c/td\u003e\n      \u003ctd\u003eDONALD\u003c/td\u003e\n      \u003ctd\u003eJ.\u003c/td\u003e\n      \u003ctd\u003e12 LOMPOC\u003c/td\u003e\n      \u003ctd\u003eNaN\u003c/td\u003e\n      \u003ctd\u003eRANCHO SANTA MARGA\u003c/td\u003e\n      \u003ctd\u003eCA\u003c/td\u003e\n      \u003ctd\u003e926881817\u003c/td\u003e\n      \u003ctd\u003e-2300.0\u003c/td\u003e\n      \u003ctd\u003e2008-03-11\u003c/td\u003e\n      \u003ctd\u003e22\u003c/td\u003e\n    \u003c/tr\u003e\n    \u003ctr\u003e\n      \u003cth\u003e73\u003c/th\u003e\n      \u003ctd\u003eBRUNO\u003c/td\u003e\n      \u003ctd\u003eIRENE\u003c/td\u003e\n      \u003ctd\u003eNaN\u003c/td\u003e\n      \u003ctd\u003e10136 WINDERMERE CHASE BLVD.\u003c/td\u003e\n      \u003ctd\u003eNaN\u003c/td\u003e\n      \u003ctd\u003eGOTHA\u003c/td\u003e\n      \u003ctd\u003eFL\u003c/td\u003e\n      \u003ctd\u003e347344707\u003c/td\u003e\n      \u003ctd\u003e-2300.0\u003c/td\u003e\n      \u003ctd\u003e2008-03-06\u003c/td\u003e\n      \u003ctd\u003e22\u003c/td\u003e\n    \u003c/tr\u003e\n    \u003ctr\u003e\n      \u003cth\u003e74\u003c/th\u003e\n      \u003ctd\u003eBROWN\u003c/td\u003e\n      \u003ctd\u003eTIMOTHY\u003c/td\u003e\n      \u003ctd\u003eJ.\u003c/td\u003e\n      \u003ctd\u003e26826 MARLOWE COURT\u003c/td\u003e\n      \u003ctd\u003eNaN\u003c/td\u003e\n      \u003ctd\u003eSTEVENSON RANCH\u003c/td\u003e\n      \u003ctd\u003eCA\u003c/td\u003e\n      \u003ctd\u003e913811020\u003c/td\u003e\n      \u003ctd\u003e-2300.0\u003c/td\u003e\n      \u003ctd\u003e2008-03-06\u003c/td\u003e\n      \u003ctd\u003e22\u003c/td\u003e\n    \u003c/tr\u003e\n    \u003ctr\u003e\n      \u003cth\u003e...\u003c/th\u003e\n      \u003ctd\u003e...\u003c/td\u003e\n      \u003ctd\u003e...\u003c/td\u003e\n      \u003ctd\u003e...\u003c/td\u003e\n      \u003ctd\u003e...\u003c/td\u003e\n      \u003ctd\u003e...\u003c/td\u003e\n      \u003ctd\u003e...\u003c/td\u003e\n      \u003ctd\u003e...\u003c/td\u003e\n      \u003ctd\u003e...\u003c/td\u003e\n      \u003ctd\u003e...\u003c/td\u003e\n      \u003ctd\u003e...\u003c/td\u003e\n      \u003ctd\u003e...\u003c/td\u003e\n    \u003c/tr\u003e\n    \u003ctr\u003e\n      \u003cth\u003e33\u003c/th\u003e\n      \u003ctd\u003eBuck\u003c/td\u003e\n      \u003ctd\u003eBlaine\u003c/td\u003e\n      \u003ctd\u003eM\u003c/td\u003e\n      \u003ctd\u003e45 Eaton Ave\u003c/td\u003e\n      \u003ctd\u003eNaN\u003c/td\u003e\n      \u003ctd\u003eCamden\u003c/td\u003e\n      \u003ctd\u003eME\u003c/td\u003e\n      \u003ctd\u003e48431752\u003c/td\u003e\n      \u003ctd\u003e2300.0\u003c/td\u003e\n      \u003ctd\u003e2007-09-30\u003c/td\u003e\n      \u003ctd\u003e20\u003c/td\u003e\n    \u003c/tr\u003e\n    \u003ctr\u003e\n      \u003cth\u003e15\u003c/th\u003e\n      \u003ctd\u003eAnthony\u003c/td\u003e\n      \u003ctd\u003eJohn\u003c/td\u003e\n      \u003ctd\u003eNaN\u003c/td\u003e\n      \u003ctd\u003e211 Long Island Drive\u003c/td\u003e\n      \u003ctd\u003eNaN\u003c/td\u003e\n      \u003ctd\u003eHot Springs\u003c/td\u003e\n      \u003ctd\u003eAR\u003c/td\u003e\n      \u003ctd\u003e71913\u003c/td\u003e\n      \u003ctd\u003e2300.0\u003c/td\u003e\n      \u003ctd\u003e2007-06-12\u003c/td\u003e\n      \u003ctd\u003e16\u003c/td\u003e\n    \u003c/tr\u003e\n    \u003ctr\u003e\n      \u003cth\u003e135\u003c/th\u003e\n      \u003ctd\u003eABRAMOWITZ\u003c/td\u003e\n      \u003ctd\u003eNIRA\u003c/td\u003e\n      \u003ctd\u003eNaN\u003c/td\u003e\n      \u003ctd\u003e411 HARBOR ROAD\u003c/td\u003e\n      \u003ctd\u003eNaN\u003c/td\u003e\n      \u003ctd\u003eSOUTHPORT\u003c/td\u003e\n      \u003ctd\u003eCT\u003c/td\u003e\n      \u003ctd\u003e68901376\u003c/td\u003e\n      \u003ctd\u003e2300.0\u003c/td\u003e\n      \u003ctd\u003e2007-09-14\u003c/td\u003e\n      \u003ctd\u003e35\u003c/td\u003e\n    \u003c/tr\u003e\n    \u003ctr\u003e\n      \u003cth\u003e159\u003c/th\u003e\n      \u003ctd\u003eABATE\u003c/td\u003e\n      \u003ctd\u003eMARIA\u003c/td\u003e\n      \u003ctd\u003eELENA\u003c/td\u003e\n      \u003ctd\u003e1291 NIGHTINGALE AVENUE\u003c/td\u003e\n      \u003ctd\u003eNaN\u003c/td\u003e\n      \u003ctd\u003eMIAMI SPRINGS\u003c/td\u003e\n      \u003ctd\u003eFL\u003c/td\u003e\n      \u003ctd\u003e331663832\u003c/td\u003e\n      \u003ctd\u003e2600.0\u003c/td\u003e\n      \u003ctd\u003e2008-01-25\u003c/td\u003e\n      \u003ctd\u003e37\u003c/td\u003e\n    \u003c/tr\u003e\n    \u003ctr\u003e\n      \u003cth\u003e30\u003c/th\u003e\n      \u003ctd\u003eBuckel\u003c/td\u003e\n      \u003ctd\u003eLinda\u003c/td\u003e\n      \u003ctd\u003eNaN\u003c/td\u003e\n      \u003ctd\u003ePO Box 683130\u003c/td\u003e\n      \u003ctd\u003eNaN\u003c/td\u003e\n      \u003ctd\u003ePark City\u003c/td\u003e\n      \u003ctd\u003eUT\u003c/td\u003e\n      \u003ctd\u003e840683130\u003c/td\u003e\n      \u003ctd\u003e4600.0\u003c/td\u003e\n      \u003ctd\u003e2007-08-14\u003c/td\u003e\n      \u003ctd\u003e20\u003c/td\u003e\n    \u003c/tr\u003e\n  \u003c/tbody\u003e\n\u003c/table\u003e\n\u003cp\u003e175 rows × 11 columns\u003c/p\u003e\n\u003c/div\u003e",
                        "text/plain": "      last_name   first_name middle_name                      street_1  \\\n90        Kazor  Christopher           M           707 Spindletree ave   \n72        BRUNO         JOHN         NaN  10136 WINDERMERE CHASE BLVD.   \n64        BURKE       DONALD          J.                     12 LOMPOC   \n73        BRUNO        IRENE         NaN  10136 WINDERMERE CHASE BLVD.   \n74        BROWN      TIMOTHY          J.           26826 MARLOWE COURT   \n..          ...          ...         ...                           ...   \n33         Buck       Blaine           M                  45 Eaton Ave   \n15      Anthony         John         NaN         211 Long Island Drive   \n135  ABRAMOWITZ         NIRA         NaN               411 HARBOR ROAD   \n159       ABATE        MARIA       ELENA       1291 NIGHTINGALE AVENUE   \n30       Buckel        Linda         NaN                 PO Box 683130   \n\n    street_2                city state        zip  amount        date  \\\n90       NaN          Naperville    IL      60565 -2592.0  2008-04-21   \n72       NaN               GOTHA    FL  347344707 -2300.0  2008-03-06   \n64       NaN  RANCHO SANTA MARGA    CA  926881817 -2300.0  2008-03-11   \n73       NaN               GOTHA    FL  347344707 -2300.0  2008-03-06   \n74       NaN     STEVENSON RANCH    CA  913811020 -2300.0  2008-03-06   \n..       ...                 ...   ...        ...     ...         ...   \n33       NaN              Camden    ME   48431752  2300.0  2007-09-30   \n15       NaN         Hot Springs    AR      71913  2300.0  2007-06-12   \n135      NaN           SOUTHPORT    CT   68901376  2300.0  2007-09-14   \n159      NaN       MIAMI SPRINGS    FL  331663832  2600.0  2008-01-25   \n30       NaN           Park City    UT  840683130  4600.0  2007-08-14   \n\n     candidate_id  \n90             32  \n72             22  \n64             22  \n73             22  \n74             22  \n..            ...  \n33             20  \n15             16  \n135            35  \n159            37  \n30             20  \n\n[175 rows x 11 columns]"
                    },
                    "execution_count": 17,
                    "metadata": {},
                    "output_type": "execute_result"
                }
            ],
            "source": [
                "dfcwci_asc=dfcwci.sort_values(\"amount\")\n",
                "dfcwci_asc"
            ]
        },
        {
            "attachments": {},
            "cell_type": "markdown",
            "metadata": {},
            "source": [
                "##### Next, sort the same in descending order."
            ]
        },
        {
            "cell_type": "code",
            "execution_count": 18,
            "metadata": {},
            "outputs": [
                {
                    "data": {
                        "text/html": "\u003cdiv\u003e\n\u003cstyle scoped\u003e\n    .dataframe tbody tr th:only-of-type {\n        vertical-align: middle;\n    }\n\n    .dataframe tbody tr th {\n        vertical-align: top;\n    }\n\n    .dataframe thead th {\n        text-align: right;\n    }\n\u003c/style\u003e\n\u003ctable border=\"1\" class=\"dataframe\"\u003e\n  \u003cthead\u003e\n    \u003ctr style=\"text-align: right;\"\u003e\n      \u003cth\u003e\u003c/th\u003e\n      \u003cth\u003elast_name\u003c/th\u003e\n      \u003cth\u003efirst_name\u003c/th\u003e\n      \u003cth\u003emiddle_name\u003c/th\u003e\n      \u003cth\u003estreet_1\u003c/th\u003e\n      \u003cth\u003estreet_2\u003c/th\u003e\n      \u003cth\u003ecity\u003c/th\u003e\n      \u003cth\u003estate\u003c/th\u003e\n      \u003cth\u003ezip\u003c/th\u003e\n      \u003cth\u003eamount\u003c/th\u003e\n      \u003cth\u003edate\u003c/th\u003e\n      \u003cth\u003ecandidate_id\u003c/th\u003e\n    \u003c/tr\u003e\n  \u003c/thead\u003e\n  \u003ctbody\u003e\n    \u003ctr\u003e\n      \u003cth\u003e30\u003c/th\u003e\n      \u003ctd\u003eBuckel\u003c/td\u003e\n      \u003ctd\u003eLinda\u003c/td\u003e\n      \u003ctd\u003eNaN\u003c/td\u003e\n      \u003ctd\u003ePO Box 683130\u003c/td\u003e\n      \u003ctd\u003eNaN\u003c/td\u003e\n      \u003ctd\u003ePark City\u003c/td\u003e\n      \u003ctd\u003eUT\u003c/td\u003e\n      \u003ctd\u003e840683130\u003c/td\u003e\n      \u003ctd\u003e4600.0\u003c/td\u003e\n      \u003ctd\u003e2007-08-14\u003c/td\u003e\n      \u003ctd\u003e20\u003c/td\u003e\n    \u003c/tr\u003e\n    \u003ctr\u003e\n      \u003cth\u003e159\u003c/th\u003e\n      \u003ctd\u003eABATE\u003c/td\u003e\n      \u003ctd\u003eMARIA\u003c/td\u003e\n      \u003ctd\u003eELENA\u003c/td\u003e\n      \u003ctd\u003e1291 NIGHTINGALE AVENUE\u003c/td\u003e\n      \u003ctd\u003eNaN\u003c/td\u003e\n      \u003ctd\u003eMIAMI SPRINGS\u003c/td\u003e\n      \u003ctd\u003eFL\u003c/td\u003e\n      \u003ctd\u003e331663832\u003c/td\u003e\n      \u003ctd\u003e2600.0\u003c/td\u003e\n      \u003ctd\u003e2008-01-25\u003c/td\u003e\n      \u003ctd\u003e37\u003c/td\u003e\n    \u003c/tr\u003e\n    \u003ctr\u003e\n      \u003cth\u003e15\u003c/th\u003e\n      \u003ctd\u003eAnthony\u003c/td\u003e\n      \u003ctd\u003eJohn\u003c/td\u003e\n      \u003ctd\u003eNaN\u003c/td\u003e\n      \u003ctd\u003e211 Long Island Drive\u003c/td\u003e\n      \u003ctd\u003eNaN\u003c/td\u003e\n      \u003ctd\u003eHot Springs\u003c/td\u003e\n      \u003ctd\u003eAR\u003c/td\u003e\n      \u003ctd\u003e71913\u003c/td\u003e\n      \u003ctd\u003e2300.0\u003c/td\u003e\n      \u003ctd\u003e2007-06-12\u003c/td\u003e\n      \u003ctd\u003e16\u003c/td\u003e\n    \u003c/tr\u003e\n    \u003ctr\u003e\n      \u003cth\u003e33\u003c/th\u003e\n      \u003ctd\u003eBuck\u003c/td\u003e\n      \u003ctd\u003eBlaine\u003c/td\u003e\n      \u003ctd\u003eM\u003c/td\u003e\n      \u003ctd\u003e45 Eaton Ave\u003c/td\u003e\n      \u003ctd\u003eNaN\u003c/td\u003e\n      \u003ctd\u003eCamden\u003c/td\u003e\n      \u003ctd\u003eME\u003c/td\u003e\n      \u003ctd\u003e48431752\u003c/td\u003e\n      \u003ctd\u003e2300.0\u003c/td\u003e\n      \u003ctd\u003e2007-09-30\u003c/td\u003e\n      \u003ctd\u003e20\u003c/td\u003e\n    \u003c/tr\u003e\n    \u003ctr\u003e\n      \u003cth\u003e28\u003c/th\u003e\n      \u003ctd\u003eBuckel\u003c/td\u003e\n      \u003ctd\u003eLinda\u003c/td\u003e\n      \u003ctd\u003eNaN\u003c/td\u003e\n      \u003ctd\u003ePO Box 683130\u003c/td\u003e\n      \u003ctd\u003eNaN\u003c/td\u003e\n      \u003ctd\u003ePark City\u003c/td\u003e\n      \u003ctd\u003eUT\u003c/td\u003e\n      \u003ctd\u003e840683130\u003c/td\u003e\n      \u003ctd\u003e2300.0\u003c/td\u003e\n      \u003ctd\u003e2007-08-14\u003c/td\u003e\n      \u003ctd\u003e20\u003c/td\u003e\n    \u003c/tr\u003e\n    \u003ctr\u003e\n      \u003cth\u003e...\u003c/th\u003e\n      \u003ctd\u003e...\u003c/td\u003e\n      \u003ctd\u003e...\u003c/td\u003e\n      \u003ctd\u003e...\u003c/td\u003e\n      \u003ctd\u003e...\u003c/td\u003e\n      \u003ctd\u003e...\u003c/td\u003e\n      \u003ctd\u003e...\u003c/td\u003e\n      \u003ctd\u003e...\u003c/td\u003e\n      \u003ctd\u003e...\u003c/td\u003e\n      \u003ctd\u003e...\u003c/td\u003e\n      \u003ctd\u003e...\u003c/td\u003e\n      \u003ctd\u003e...\u003c/td\u003e\n    \u003c/tr\u003e\n    \u003ctr\u003e\n      \u003cth\u003e57\u003c/th\u003e\n      \u003ctd\u003eBURTON\u003c/td\u003e\n      \u003ctd\u003eSTEVEN\u003c/td\u003e\n      \u003ctd\u003eG.\u003c/td\u003e\n      \u003ctd\u003e9938 DEER CREEK DRIVE\u003c/td\u003e\n      \u003ctd\u003eNaN\u003c/td\u003e\n      \u003ctd\u003eTAMPA\u003c/td\u003e\n      \u003ctd\u003eFL\u003c/td\u003e\n      \u003ctd\u003e33647\u003c/td\u003e\n      \u003ctd\u003e-2300.0\u003c/td\u003e\n      \u003ctd\u003e2008-03-05\u003c/td\u003e\n      \u003ctd\u003e22\u003c/td\u003e\n    \u003c/tr\u003e\n    \u003ctr\u003e\n      \u003cth\u003e111\u003c/th\u003e\n      \u003ctd\u003eReich\u003c/td\u003e\n      \u003ctd\u003eThomas\u003c/td\u003e\n      \u003ctd\u003eNaN\u003c/td\u003e\n      \u003ctd\u003e499 Park Ave\u003c/td\u003e\n      \u003ctd\u003eNaN\u003c/td\u003e\n      \u003ctd\u003eNew York\u003c/td\u003e\n      \u003ctd\u003eNY\u003c/td\u003e\n      \u003ctd\u003e100221240\u003c/td\u003e\n      \u003ctd\u003e-2300.0\u003c/td\u003e\n      \u003ctd\u003e2008-08-28\u003c/td\u003e\n      \u003ctd\u003e34\u003c/td\u003e\n    \u003c/tr\u003e\n    \u003ctr\u003e\n      \u003cth\u003e58\u003c/th\u003e\n      \u003ctd\u003eBURTON\u003c/td\u003e\n      \u003ctd\u003eGLENN\u003c/td\u003e\n      \u003ctd\u003eM.\u003c/td\u003e\n      \u003ctd\u003e4404 CHARLESTON COURT\u003c/td\u003e\n      \u003ctd\u003eNaN\u003c/td\u003e\n      \u003ctd\u003eTAMPA\u003c/td\u003e\n      \u003ctd\u003eFL\u003c/td\u003e\n      \u003ctd\u003e336092620\u003c/td\u003e\n      \u003ctd\u003e-2300.0\u003c/td\u003e\n      \u003ctd\u003e2008-03-05\u003c/td\u003e\n      \u003ctd\u003e22\u003c/td\u003e\n    \u003c/tr\u003e\n    \u003ctr\u003e\n      \u003cth\u003e55\u003c/th\u003e\n      \u003ctd\u003eBUSH\u003c/td\u003e\n      \u003ctd\u003eERIC\u003c/td\u003e\n      \u003ctd\u003eNaN\u003c/td\u003e\n      \u003ctd\u003eP.O. BOX 61046\u003c/td\u003e\n      \u003ctd\u003eNaN\u003c/td\u003e\n      \u003ctd\u003eDENVER\u003c/td\u003e\n      \u003ctd\u003eCO\u003c/td\u003e\n      \u003ctd\u003e802061046\u003c/td\u003e\n      \u003ctd\u003e-2300.0\u003c/td\u003e\n      \u003ctd\u003e2008-03-06\u003c/td\u003e\n      \u003ctd\u003e22\u003c/td\u003e\n    \u003c/tr\u003e\n    \u003ctr\u003e\n      \u003cth\u003e90\u003c/th\u003e\n      \u003ctd\u003eKazor\u003c/td\u003e\n      \u003ctd\u003eChristopher\u003c/td\u003e\n      \u003ctd\u003eM\u003c/td\u003e\n      \u003ctd\u003e707 Spindletree ave\u003c/td\u003e\n      \u003ctd\u003eNaN\u003c/td\u003e\n      \u003ctd\u003eNaperville\u003c/td\u003e\n      \u003ctd\u003eIL\u003c/td\u003e\n      \u003ctd\u003e60565\u003c/td\u003e\n      \u003ctd\u003e-2592.0\u003c/td\u003e\n      \u003ctd\u003e2008-04-21\u003c/td\u003e\n      \u003ctd\u003e32\u003c/td\u003e\n    \u003c/tr\u003e\n  \u003c/tbody\u003e\n\u003c/table\u003e\n\u003cp\u003e175 rows × 11 columns\u003c/p\u003e\n\u003c/div\u003e",
                        "text/plain": "    last_name   first_name middle_name                 street_1 street_2  \\\n30     Buckel        Linda         NaN            PO Box 683130      NaN   \n159     ABATE        MARIA       ELENA  1291 NIGHTINGALE AVENUE      NaN   \n15    Anthony         John         NaN    211 Long Island Drive      NaN   \n33       Buck       Blaine           M             45 Eaton Ave      NaN   \n28     Buckel        Linda         NaN            PO Box 683130      NaN   \n..        ...          ...         ...                      ...      ...   \n57     BURTON       STEVEN          G.    9938 DEER CREEK DRIVE      NaN   \n111     Reich       Thomas         NaN             499 Park Ave      NaN   \n58     BURTON        GLENN          M.    4404 CHARLESTON COURT      NaN   \n55       BUSH         ERIC         NaN           P.O. BOX 61046      NaN   \n90      Kazor  Christopher           M      707 Spindletree ave      NaN   \n\n              city state        zip  amount        date  candidate_id  \n30       Park City    UT  840683130  4600.0  2007-08-14            20  \n159  MIAMI SPRINGS    FL  331663832  2600.0  2008-01-25            37  \n15     Hot Springs    AR      71913  2300.0  2007-06-12            16  \n33          Camden    ME   48431752  2300.0  2007-09-30            20  \n28       Park City    UT  840683130  2300.0  2007-08-14            20  \n..             ...   ...        ...     ...         ...           ...  \n57           TAMPA    FL      33647 -2300.0  2008-03-05            22  \n111       New York    NY  100221240 -2300.0  2008-08-28            34  \n58           TAMPA    FL  336092620 -2300.0  2008-03-05            22  \n55          DENVER    CO  802061046 -2300.0  2008-03-06            22  \n90      Naperville    IL      60565 -2592.0  2008-04-21            32  \n\n[175 rows x 11 columns]"
                    },
                    "execution_count": 18,
                    "metadata": {},
                    "output_type": "execute_result"
                }
            ],
            "source": [
                "### edTest(test_desc) ###\n",
                "dfcwci_desc=dfcwci.sort_values(\"amount\" , ascending=False ) \n",
                "dfcwci_desc"
            ]
        },
        {
            "attachments": {},
            "cell_type": "markdown",
            "metadata": {},
            "source": [
                "#### Q2.2 How do you do it in SQL?\n",
                "\n",
                "##### First in ascending order."
            ]
        },
        {
            "cell_type": "code",
            "execution_count": 19,
            "metadata": {},
            "outputs": [
                {
                    "data": {
                        "text/html": "\u003cdiv\u003e\n\u003cstyle scoped\u003e\n    .dataframe tbody tr th:only-of-type {\n        vertical-align: middle;\n    }\n\n    .dataframe tbody tr th {\n        vertical-align: top;\n    }\n\n    .dataframe thead th {\n        text-align: right;\n    }\n\u003c/style\u003e\n\u003ctable border=\"1\" class=\"dataframe\"\u003e\n  \u003cthead\u003e\n    \u003ctr style=\"text-align: right;\"\u003e\n      \u003cth\u003e\u003c/th\u003e\n      \u003cth\u003eid\u003c/th\u003e\n      \u003cth\u003elast_name\u003c/th\u003e\n      \u003cth\u003efirst_name\u003c/th\u003e\n      \u003cth\u003emiddle_name\u003c/th\u003e\n      \u003cth\u003estreet_1\u003c/th\u003e\n      \u003cth\u003estreet_2\u003c/th\u003e\n      \u003cth\u003ecity\u003c/th\u003e\n      \u003cth\u003estate\u003c/th\u003e\n      \u003cth\u003ezip\u003c/th\u003e\n      \u003cth\u003eamount\u003c/th\u003e\n      \u003cth\u003edate\u003c/th\u003e\n      \u003cth\u003ecandidate_id\u003c/th\u003e\n    \u003c/tr\u003e\n  \u003c/thead\u003e\n  \u003ctbody\u003e\n    \u003ctr\u003e\n      \u003cth\u003e0\u003c/th\u003e\n      \u003ctd\u003e91\u003c/td\u003e\n      \u003ctd\u003eKazor\u003c/td\u003e\n      \u003ctd\u003eChristopher\u003c/td\u003e\n      \u003ctd\u003eM\u003c/td\u003e\n      \u003ctd\u003e707 Spindletree ave\u003c/td\u003e\n      \u003ctd\u003eNone\u003c/td\u003e\n      \u003ctd\u003eNaperville\u003c/td\u003e\n      \u003ctd\u003eIL\u003c/td\u003e\n      \u003ctd\u003e60565\u003c/td\u003e\n      \u003ctd\u003e-2592.0\u003c/td\u003e\n      \u003ctd\u003e2008-04-21\u003c/td\u003e\n      \u003ctd\u003e32\u003c/td\u003e\n    \u003c/tr\u003e\n    \u003ctr\u003e\n      \u003cth\u003e1\u003c/th\u003e\n      \u003ctd\u003e30\u003c/td\u003e\n      \u003ctd\u003eBuckel\u003c/td\u003e\n      \u003ctd\u003eLinda\u003c/td\u003e\n      \u003ctd\u003eNone\u003c/td\u003e\n      \u003ctd\u003ePO Box 683130\u003c/td\u003e\n      \u003ctd\u003eNone\u003c/td\u003e\n      \u003ctd\u003ePark City\u003c/td\u003e\n      \u003ctd\u003eUT\u003c/td\u003e\n      \u003ctd\u003e840683130\u003c/td\u003e\n      \u003ctd\u003e-2300.0\u003c/td\u003e\n      \u003ctd\u003e2007-08-14\u003c/td\u003e\n      \u003ctd\u003e20\u003c/td\u003e\n    \u003c/tr\u003e\n    \u003ctr\u003e\n      \u003cth\u003e2\u003c/th\u003e\n      \u003ctd\u003e52\u003c/td\u003e\n      \u003ctd\u003eBYINGTON\u003c/td\u003e\n      \u003ctd\u003eMARGARET\u003c/td\u003e\n      \u003ctd\u003eE.\u003c/td\u003e\n      \u003ctd\u003e2633 MIDDLEBORO LANE N.E.\u003c/td\u003e\n      \u003ctd\u003eNone\u003c/td\u003e\n      \u003ctd\u003eGRAND RAPIDS\u003c/td\u003e\n      \u003ctd\u003eMI\u003c/td\u003e\n      \u003ctd\u003e495061254\u003c/td\u003e\n      \u003ctd\u003e-2300.0\u003c/td\u003e\n      \u003ctd\u003e2008-03-03\u003c/td\u003e\n      \u003ctd\u003e22\u003c/td\u003e\n    \u003c/tr\u003e\n    \u003ctr\u003e\n      \u003cth\u003e3\u003c/th\u003e\n      \u003ctd\u003e53\u003c/td\u003e\n      \u003ctd\u003eBYERS\u003c/td\u003e\n      \u003ctd\u003eBOB\u003c/td\u003e\n      \u003ctd\u003eA.\u003c/td\u003e\n      \u003ctd\u003e13170 TELFAIR AVENUE\u003c/td\u003e\n      \u003ctd\u003eNone\u003c/td\u003e\n      \u003ctd\u003eSYLMAR\u003c/td\u003e\n      \u003ctd\u003eCA\u003c/td\u003e\n      \u003ctd\u003e913423573\u003c/td\u003e\n      \u003ctd\u003e-2300.0\u003c/td\u003e\n      \u003ctd\u003e2008-03-07\u003c/td\u003e\n      \u003ctd\u003e22\u003c/td\u003e\n    \u003c/tr\u003e\n    \u003ctr\u003e\n      \u003cth\u003e4\u003c/th\u003e\n      \u003ctd\u003e55\u003c/td\u003e\n      \u003ctd\u003eBUSH\u003c/td\u003e\n      \u003ctd\u003eKRYSTIE\u003c/td\u003e\n      \u003ctd\u003eNone\u003c/td\u003e\n      \u003ctd\u003eP.O. BOX 61046\u003c/td\u003e\n      \u003ctd\u003eNone\u003c/td\u003e\n      \u003ctd\u003eDENVER\u003c/td\u003e\n      \u003ctd\u003eCO\u003c/td\u003e\n      \u003ctd\u003e802061046\u003c/td\u003e\n      \u003ctd\u003e-2300.0\u003c/td\u003e\n      \u003ctd\u003e2008-03-06\u003c/td\u003e\n      \u003ctd\u003e22\u003c/td\u003e\n    \u003c/tr\u003e\n    \u003ctr\u003e\n      \u003cth\u003e5\u003c/th\u003e\n      \u003ctd\u003e56\u003c/td\u003e\n      \u003ctd\u003eBUSH\u003c/td\u003e\n      \u003ctd\u003eERIC\u003c/td\u003e\n      \u003ctd\u003eNone\u003c/td\u003e\n      \u003ctd\u003eP.O. BOX 61046\u003c/td\u003e\n      \u003ctd\u003eNone\u003c/td\u003e\n      \u003ctd\u003eDENVER\u003c/td\u003e\n      \u003ctd\u003eCO\u003c/td\u003e\n      \u003ctd\u003e802061046\u003c/td\u003e\n      \u003ctd\u003e-2300.0\u003c/td\u003e\n      \u003ctd\u003e2008-03-06\u003c/td\u003e\n      \u003ctd\u003e22\u003c/td\u003e\n    \u003c/tr\u003e\n    \u003ctr\u003e\n      \u003cth\u003e6\u003c/th\u003e\n      \u003ctd\u003e57\u003c/td\u003e\n      \u003ctd\u003eBURTON\u003c/td\u003e\n      \u003ctd\u003eSUSAN\u003c/td\u003e\n      \u003ctd\u003eNone\u003c/td\u003e\n      \u003ctd\u003e9338 DEER CREEK DRIVE\u003c/td\u003e\n      \u003ctd\u003eNone\u003c/td\u003e\n      \u003ctd\u003eTAMPA\u003c/td\u003e\n      \u003ctd\u003eFL\u003c/td\u003e\n      \u003ctd\u003e336472286\u003c/td\u003e\n      \u003ctd\u003e-2300.0\u003c/td\u003e\n      \u003ctd\u003e2008-03-05\u003c/td\u003e\n      \u003ctd\u003e22\u003c/td\u003e\n    \u003c/tr\u003e\n    \u003ctr\u003e\n      \u003cth\u003e7\u003c/th\u003e\n      \u003ctd\u003e58\u003c/td\u003e\n      \u003ctd\u003eBURTON\u003c/td\u003e\n      \u003ctd\u003eSTEVEN\u003c/td\u003e\n      \u003ctd\u003eG.\u003c/td\u003e\n      \u003ctd\u003e9938 DEER CREEK DRIVE\u003c/td\u003e\n      \u003ctd\u003eNone\u003c/td\u003e\n      \u003ctd\u003eTAMPA\u003c/td\u003e\n      \u003ctd\u003eFL\u003c/td\u003e\n      \u003ctd\u003e33647\u003c/td\u003e\n      \u003ctd\u003e-2300.0\u003c/td\u003e\n      \u003ctd\u003e2008-03-05\u003c/td\u003e\n      \u003ctd\u003e22\u003c/td\u003e\n    \u003c/tr\u003e\n    \u003ctr\u003e\n      \u003cth\u003e8\u003c/th\u003e\n      \u003ctd\u003e59\u003c/td\u003e\n      \u003ctd\u003eBURTON\u003c/td\u003e\n      \u003ctd\u003eGLENN\u003c/td\u003e\n      \u003ctd\u003eM.\u003c/td\u003e\n      \u003ctd\u003e4404 CHARLESTON COURT\u003c/td\u003e\n      \u003ctd\u003eNone\u003c/td\u003e\n      \u003ctd\u003eTAMPA\u003c/td\u003e\n      \u003ctd\u003eFL\u003c/td\u003e\n      \u003ctd\u003e336092620\u003c/td\u003e\n      \u003ctd\u003e-2300.0\u003c/td\u003e\n      \u003ctd\u003e2008-03-05\u003c/td\u003e\n      \u003ctd\u003e22\u003c/td\u003e\n    \u003c/tr\u003e\n    \u003ctr\u003e\n      \u003cth\u003e9\u003c/th\u003e\n      \u003ctd\u003e65\u003c/td\u003e\n      \u003ctd\u003eBURKE\u003c/td\u003e\n      \u003ctd\u003eDONALD\u003c/td\u003e\n      \u003ctd\u003eJ.\u003c/td\u003e\n      \u003ctd\u003e12 LOMPOC\u003c/td\u003e\n      \u003ctd\u003eNone\u003c/td\u003e\n      \u003ctd\u003eRANCHO SANTA MARGA\u003c/td\u003e\n      \u003ctd\u003eCA\u003c/td\u003e\n      \u003ctd\u003e926881817\u003c/td\u003e\n      \u003ctd\u003e-2300.0\u003c/td\u003e\n      \u003ctd\u003e2008-03-11\u003c/td\u003e\n      \u003ctd\u003e22\u003c/td\u003e\n    \u003c/tr\u003e\n  \u003c/tbody\u003e\n\u003c/table\u003e\n\u003c/div\u003e",
                        "text/plain": "   id last_name   first_name middle_name                   street_1 street_2  \\\n0  91     Kazor  Christopher           M        707 Spindletree ave     None   \n1  30    Buckel        Linda        None              PO Box 683130     None   \n2  52  BYINGTON     MARGARET          E.  2633 MIDDLEBORO LANE N.E.     None   \n3  53     BYERS          BOB          A.       13170 TELFAIR AVENUE     None   \n4  55      BUSH      KRYSTIE        None             P.O. BOX 61046     None   \n5  56      BUSH         ERIC        None             P.O. BOX 61046     None   \n6  57    BURTON        SUSAN        None      9338 DEER CREEK DRIVE     None   \n7  58    BURTON       STEVEN          G.      9938 DEER CREEK DRIVE     None   \n8  59    BURTON        GLENN          M.      4404 CHARLESTON COURT     None   \n9  65     BURKE       DONALD          J.                  12 LOMPOC     None   \n\n                 city state        zip  amount        date  candidate_id  \n0          Naperville    IL      60565 -2592.0  2008-04-21            32  \n1           Park City    UT  840683130 -2300.0  2007-08-14            20  \n2        GRAND RAPIDS    MI  495061254 -2300.0  2008-03-03            22  \n3              SYLMAR    CA  913423573 -2300.0  2008-03-07            22  \n4              DENVER    CO  802061046 -2300.0  2008-03-06            22  \n5              DENVER    CO  802061046 -2300.0  2008-03-06            22  \n6               TAMPA    FL  336472286 -2300.0  2008-03-05            22  \n7               TAMPA    FL      33647 -2300.0  2008-03-05            22  \n8               TAMPA    FL  336092620 -2300.0  2008-03-05            22  \n9  RANCHO SANTA MARGA    CA  926881817 -2300.0  2008-03-11            22  "
                    },
                    "execution_count": 19,
                    "metadata": {},
                    "output_type": "execute_result"
                }
            ],
            "source": [
                "out=make_query(\"SELECT * FROM contributors ORDER BY amount;\")\n",
                "make_frame(out, legend=contributor_cols).head(10)"
            ]
        },
        {
            "attachments": {},
            "cell_type": "markdown",
            "metadata": {},
            "source": [
                "##### Now in descending order."
            ]
        },
        {
            "cell_type": "code",
            "execution_count": 20,
            "metadata": {},
            "outputs": [
                {
                    "data": {
                        "text/html": "\u003cdiv\u003e\n\u003cstyle scoped\u003e\n    .dataframe tbody tr th:only-of-type {\n        vertical-align: middle;\n    }\n\n    .dataframe tbody tr th {\n        vertical-align: top;\n    }\n\n    .dataframe thead th {\n        text-align: right;\n    }\n\u003c/style\u003e\n\u003ctable border=\"1\" class=\"dataframe\"\u003e\n  \u003cthead\u003e\n    \u003ctr style=\"text-align: right;\"\u003e\n      \u003cth\u003e\u003c/th\u003e\n      \u003cth\u003eid\u003c/th\u003e\n      \u003cth\u003elast_name\u003c/th\u003e\n      \u003cth\u003efirst_name\u003c/th\u003e\n      \u003cth\u003emiddle_name\u003c/th\u003e\n      \u003cth\u003estreet_1\u003c/th\u003e\n      \u003cth\u003estreet_2\u003c/th\u003e\n      \u003cth\u003ecity\u003c/th\u003e\n      \u003cth\u003estate\u003c/th\u003e\n      \u003cth\u003ezip\u003c/th\u003e\n      \u003cth\u003eamount\u003c/th\u003e\n      \u003cth\u003edate\u003c/th\u003e\n      \u003cth\u003ecandidate_id\u003c/th\u003e\n    \u003c/tr\u003e\n  \u003c/thead\u003e\n  \u003ctbody\u003e\n    \u003ctr\u003e\n      \u003cth\u003e0\u003c/th\u003e\n      \u003ctd\u003e31\u003c/td\u003e\n      \u003ctd\u003eBuckel\u003c/td\u003e\n      \u003ctd\u003eLinda\u003c/td\u003e\n      \u003ctd\u003eNone\u003c/td\u003e\n      \u003ctd\u003ePO Box 683130\u003c/td\u003e\n      \u003ctd\u003eNone\u003c/td\u003e\n      \u003ctd\u003ePark City\u003c/td\u003e\n      \u003ctd\u003eUT\u003c/td\u003e\n      \u003ctd\u003e840683130\u003c/td\u003e\n      \u003ctd\u003e4600.0\u003c/td\u003e\n      \u003ctd\u003e2007-08-14\u003c/td\u003e\n      \u003ctd\u003e20\u003c/td\u003e\n    \u003c/tr\u003e\n    \u003ctr\u003e\n      \u003cth\u003e1\u003c/th\u003e\n      \u003ctd\u003e160\u003c/td\u003e\n      \u003ctd\u003eABATE\u003c/td\u003e\n      \u003ctd\u003eMARIA\u003c/td\u003e\n      \u003ctd\u003eELENA\u003c/td\u003e\n      \u003ctd\u003e1291 NIGHTINGALE AVENUE\u003c/td\u003e\n      \u003ctd\u003eNone\u003c/td\u003e\n      \u003ctd\u003eMIAMI SPRINGS\u003c/td\u003e\n      \u003ctd\u003eFL\u003c/td\u003e\n      \u003ctd\u003e331663832\u003c/td\u003e\n      \u003ctd\u003e2600.0\u003c/td\u003e\n      \u003ctd\u003e2008-01-25\u003c/td\u003e\n      \u003ctd\u003e37\u003c/td\u003e\n    \u003c/tr\u003e\n    \u003ctr\u003e\n      \u003cth\u003e2\u003c/th\u003e\n      \u003ctd\u003e14\u003c/td\u003e\n      \u003ctd\u003eAltes\u003c/td\u003e\n      \u003ctd\u003eR.D.\u003c/td\u003e\n      \u003ctd\u003eNone\u003c/td\u003e\n      \u003ctd\u003e8600 Moody Road\u003c/td\u003e\n      \u003ctd\u003eNone\u003c/td\u003e\n      \u003ctd\u003eFort Smith\u003c/td\u003e\n      \u003ctd\u003eAR\u003c/td\u003e\n      \u003ctd\u003e72903\u003c/td\u003e\n      \u003ctd\u003e2300.0\u003c/td\u003e\n      \u003ctd\u003e2007-06-21\u003c/td\u003e\n      \u003ctd\u003e16\u003c/td\u003e\n    \u003c/tr\u003e\n    \u003ctr\u003e\n      \u003cth\u003e3\u003c/th\u003e\n      \u003ctd\u003e16\u003c/td\u003e\n      \u003ctd\u003eAnthony\u003c/td\u003e\n      \u003ctd\u003eJohn\u003c/td\u003e\n      \u003ctd\u003eNone\u003c/td\u003e\n      \u003ctd\u003e211 Long Island Drive\u003c/td\u003e\n      \u003ctd\u003eNone\u003c/td\u003e\n      \u003ctd\u003eHot Springs\u003c/td\u003e\n      \u003ctd\u003eAR\u003c/td\u003e\n      \u003ctd\u003e71913\u003c/td\u003e\n      \u003ctd\u003e2300.0\u003c/td\u003e\n      \u003ctd\u003e2007-06-12\u003c/td\u003e\n      \u003ctd\u003e16\u003c/td\u003e\n    \u003c/tr\u003e\n    \u003ctr\u003e\n      \u003cth\u003e4\u003c/th\u003e\n      \u003ctd\u003e22\u003c/td\u003e\n      \u003ctd\u003eBaker\u003c/td\u003e\n      \u003ctd\u003eDavid\u003c/td\u003e\n      \u003ctd\u003eNone\u003c/td\u003e\n      \u003ctd\u003e2550 Adamsbrooke Drive\u003c/td\u003e\n      \u003ctd\u003eNone\u003c/td\u003e\n      \u003ctd\u003eConway\u003c/td\u003e\n      \u003ctd\u003eAR\u003c/td\u003e\n      \u003ctd\u003e72034\u003c/td\u003e\n      \u003ctd\u003e2300.0\u003c/td\u003e\n      \u003ctd\u003e2007-04-11\u003c/td\u003e\n      \u003ctd\u003e16\u003c/td\u003e\n    \u003c/tr\u003e\n    \u003ctr\u003e\n      \u003cth\u003e5\u003c/th\u003e\n      \u003ctd\u003e29\u003c/td\u003e\n      \u003ctd\u003eBuckel\u003c/td\u003e\n      \u003ctd\u003eLinda\u003c/td\u003e\n      \u003ctd\u003eNone\u003c/td\u003e\n      \u003ctd\u003ePO Box 683130\u003c/td\u003e\n      \u003ctd\u003eNone\u003c/td\u003e\n      \u003ctd\u003ePark City\u003c/td\u003e\n      \u003ctd\u003eUT\u003c/td\u003e\n      \u003ctd\u003e840683130\u003c/td\u003e\n      \u003ctd\u003e2300.0\u003c/td\u003e\n      \u003ctd\u003e2007-08-14\u003c/td\u003e\n      \u003ctd\u003e20\u003c/td\u003e\n    \u003c/tr\u003e\n    \u003ctr\u003e\n      \u003cth\u003e6\u003c/th\u003e\n      \u003ctd\u003e34\u003c/td\u003e\n      \u003ctd\u003eBuck\u003c/td\u003e\n      \u003ctd\u003eBlaine\u003c/td\u003e\n      \u003ctd\u003eM\u003c/td\u003e\n      \u003ctd\u003e45 Eaton Ave\u003c/td\u003e\n      \u003ctd\u003eNone\u003c/td\u003e\n      \u003ctd\u003eCamden\u003c/td\u003e\n      \u003ctd\u003eME\u003c/td\u003e\n      \u003ctd\u003e48431752\u003c/td\u003e\n      \u003ctd\u003e2300.0\u003c/td\u003e\n      \u003ctd\u003e2007-09-30\u003c/td\u003e\n      \u003ctd\u003e20\u003c/td\u003e\n    \u003c/tr\u003e\n    \u003ctr\u003e\n      \u003cth\u003e7\u003c/th\u003e\n      \u003ctd\u003e136\u003c/td\u003e\n      \u003ctd\u003eABRAMOWITZ\u003c/td\u003e\n      \u003ctd\u003eNIRA\u003c/td\u003e\n      \u003ctd\u003eNone\u003c/td\u003e\n      \u003ctd\u003e411 HARBOR ROAD\u003c/td\u003e\n      \u003ctd\u003eNone\u003c/td\u003e\n      \u003ctd\u003eSOUTHPORT\u003c/td\u003e\n      \u003ctd\u003eCT\u003c/td\u003e\n      \u003ctd\u003e68901376\u003c/td\u003e\n      \u003ctd\u003e2300.0\u003c/td\u003e\n      \u003ctd\u003e2007-09-14\u003c/td\u003e\n      \u003ctd\u003e35\u003c/td\u003e\n    \u003c/tr\u003e\n    \u003ctr\u003e\n      \u003cth\u003e8\u003c/th\u003e\n      \u003ctd\u003e6\u003c/td\u003e\n      \u003ctd\u003eAkin\u003c/td\u003e\n      \u003ctd\u003eMike\u003c/td\u003e\n      \u003ctd\u003eNone\u003c/td\u003e\n      \u003ctd\u003e181 Baywood Lane\u003c/td\u003e\n      \u003ctd\u003eNone\u003c/td\u003e\n      \u003ctd\u003eMonticello\u003c/td\u003e\n      \u003ctd\u003eAR\u003c/td\u003e\n      \u003ctd\u003e71655\u003c/td\u003e\n      \u003ctd\u003e1500.0\u003c/td\u003e\n      \u003ctd\u003e2007-05-18\u003c/td\u003e\n      \u003ctd\u003e16\u003c/td\u003e\n    \u003c/tr\u003e\n    \u003ctr\u003e\n      \u003cth\u003e9\u003c/th\u003e\n      \u003ctd\u003e10\u003c/td\u003e\n      \u003ctd\u003eAllen\u003c/td\u003e\n      \u003ctd\u003eJohn D.\u003c/td\u003e\n      \u003ctd\u003eNone\u003c/td\u003e\n      \u003ctd\u003e1052 Cannon Mill Drive\u003c/td\u003e\n      \u003ctd\u003eNone\u003c/td\u003e\n      \u003ctd\u003eNorth Augusta\u003c/td\u003e\n      \u003ctd\u003eSC\u003c/td\u003e\n      \u003ctd\u003e29860\u003c/td\u003e\n      \u003ctd\u003e1300.0\u003c/td\u003e\n      \u003ctd\u003e2007-06-29\u003c/td\u003e\n      \u003ctd\u003e16\u003c/td\u003e\n    \u003c/tr\u003e\n  \u003c/tbody\u003e\n\u003c/table\u003e\n\u003c/div\u003e",
                        "text/plain": "    id   last_name first_name middle_name                 street_1 street_2  \\\n0   31      Buckel      Linda        None            PO Box 683130     None   \n1  160       ABATE      MARIA       ELENA  1291 NIGHTINGALE AVENUE     None   \n2   14       Altes       R.D.        None          8600 Moody Road     None   \n3   16     Anthony       John        None    211 Long Island Drive     None   \n4   22       Baker      David        None   2550 Adamsbrooke Drive     None   \n5   29      Buckel      Linda        None            PO Box 683130     None   \n6   34        Buck     Blaine           M             45 Eaton Ave     None   \n7  136  ABRAMOWITZ       NIRA        None          411 HARBOR ROAD     None   \n8    6        Akin       Mike        None         181 Baywood Lane     None   \n9   10       Allen    John D.        None   1052 Cannon Mill Drive     None   \n\n            city state        zip  amount        date  candidate_id  \n0      Park City    UT  840683130  4600.0  2007-08-14            20  \n1  MIAMI SPRINGS    FL  331663832  2600.0  2008-01-25            37  \n2     Fort Smith    AR      72903  2300.0  2007-06-21            16  \n3    Hot Springs    AR      71913  2300.0  2007-06-12            16  \n4         Conway    AR      72034  2300.0  2007-04-11            16  \n5      Park City    UT  840683130  2300.0  2007-08-14            20  \n6         Camden    ME   48431752  2300.0  2007-09-30            20  \n7      SOUTHPORT    CT   68901376  2300.0  2007-09-14            35  \n8     Monticello    AR      71655  1500.0  2007-05-18            16  \n9  North Augusta    SC      29860  1300.0  2007-06-29            16  "
                    },
                    "execution_count": 20,
                    "metadata": {},
                    "output_type": "execute_result"
                }
            ],
            "source": [
                "out=make_query(\"SELECT * FROM contributors ORDER by amount DESC\")\n",
                "make_frame(out, legend=contributor_cols).head(10)"
            ]
        },
        {
            "attachments": {},
            "cell_type": "markdown",
            "metadata": {},
            "source": [
                "### Q3: Find all distinct (distinct first name/last name pairs) contributors\n",
                "\n",
                "Once we have chosen certain columns we might want to drop rows which have duplicate values for some of these columns..\n",
                "\n",
                "Selecting a distinct set is useful for cleaning. Here, we might wish to focus on contributors rather than contributions and see how many distinct contributors we have. Of-course we might be wrong, some people have identical names. "
            ]
        },
        {
            "attachments": {},
            "cell_type": "markdown",
            "metadata": {},
            "source": [
                "#### Q3.1 How do you do it in Pandas?"
            ]
        },
        {
            "cell_type": "code",
            "execution_count": 21,
            "metadata": {},
            "outputs": [
                {
                    "data": {
                        "text/html": "\u003cdiv\u003e\n\u003cstyle scoped\u003e\n    .dataframe tbody tr th:only-of-type {\n        vertical-align: middle;\n    }\n\n    .dataframe tbody tr th {\n        vertical-align: top;\n    }\n\n    .dataframe thead th {\n        text-align: right;\n    }\n\u003c/style\u003e\n\u003ctable border=\"1\" class=\"dataframe\"\u003e\n  \u003cthead\u003e\n    \u003ctr style=\"text-align: right;\"\u003e\n      \u003cth\u003e\u003c/th\u003e\n      \u003cth\u003elast_name\u003c/th\u003e\n      \u003cth\u003efirst_name\u003c/th\u003e\n    \u003c/tr\u003e\n  \u003c/thead\u003e\n  \u003ctbody\u003e\n    \u003ctr\u003e\n      \u003cth\u003e0\u003c/th\u003e\n      \u003ctd\u003eAgee\u003c/td\u003e\n      \u003ctd\u003eSteven\u003c/td\u003e\n    \u003c/tr\u003e\n    \u003ctr\u003e\n      \u003cth\u003e1\u003c/th\u003e\n      \u003ctd\u003eAhrens\u003c/td\u003e\n      \u003ctd\u003eDon\u003c/td\u003e\n    \u003c/tr\u003e\n    \u003ctr\u003e\n      \u003cth\u003e2\u003c/th\u003e\n      \u003ctd\u003eAhrens\u003c/td\u003e\n      \u003ctd\u003eDon\u003c/td\u003e\n    \u003c/tr\u003e\n    \u003ctr\u003e\n      \u003cth\u003e3\u003c/th\u003e\n      \u003ctd\u003eAhrens\u003c/td\u003e\n      \u003ctd\u003eDon\u003c/td\u003e\n    \u003c/tr\u003e\n    \u003ctr\u003e\n      \u003cth\u003e4\u003c/th\u003e\n      \u003ctd\u003eAkin\u003c/td\u003e\n      \u003ctd\u003eCharles\u003c/td\u003e\n    \u003c/tr\u003e\n    \u003ctr\u003e\n      \u003cth\u003e...\u003c/th\u003e\n      \u003ctd\u003e...\u003c/td\u003e\n      \u003ctd\u003e...\u003c/td\u003e\n    \u003c/tr\u003e\n    \u003ctr\u003e\n      \u003cth\u003e170\u003c/th\u003e\n      \u003ctd\u003eABESHAUS\u003c/td\u003e\n      \u003ctd\u003eMERRILL\u003c/td\u003e\n    \u003c/tr\u003e\n    \u003ctr\u003e\n      \u003cth\u003e171\u003c/th\u003e\n      \u003ctd\u003eABRAHAM\u003c/td\u003e\n      \u003ctd\u003eGEORGE\u003c/td\u003e\n    \u003c/tr\u003e\n    \u003ctr\u003e\n      \u003cth\u003e172\u003c/th\u003e\n      \u003ctd\u003eABRAHAMSON\u003c/td\u003e\n      \u003ctd\u003ePETER\u003c/td\u003e\n    \u003c/tr\u003e\n    \u003ctr\u003e\n      \u003cth\u003e173\u003c/th\u003e\n      \u003ctd\u003eABRAHAM\u003c/td\u003e\n      \u003ctd\u003eSALEM\u003c/td\u003e\n    \u003c/tr\u003e\n    \u003ctr\u003e\n      \u003cth\u003e174\u003c/th\u003e\n      \u003ctd\u003eABRAHAM\u003c/td\u003e\n      \u003ctd\u003eSALEM\u003c/td\u003e\n    \u003c/tr\u003e\n  \u003c/tbody\u003e\n\u003c/table\u003e\n\u003cp\u003e175 rows × 2 columns\u003c/p\u003e\n\u003c/div\u003e",
                        "text/plain": "      last_name first_name\n0          Agee     Steven\n1        Ahrens        Don\n2        Ahrens        Don\n3        Ahrens        Don\n4          Akin    Charles\n..          ...        ...\n170    ABESHAUS    MERRILL\n171     ABRAHAM     GEORGE\n172  ABRAHAMSON      PETER\n173     ABRAHAM      SALEM\n174     ABRAHAM      SALEM\n\n[175 rows x 2 columns]"
                    },
                    "execution_count": 21,
                    "metadata": {},
                    "output_type": "execute_result"
                }
            ],
            "source": [
                "#Take a look at the first name and last name columns\n",
                "dfcwci[['last_name','first_name']]"
            ]
        },
        {
            "attachments": {},
            "cell_type": "markdown",
            "metadata": {},
            "source": [
                "This is how you drop duplicates in Pandas. Think of which of the duplicates might be dropped?"
            ]
        },
        {
            "cell_type": "code",
            "execution_count": 22,
            "metadata": {},
            "outputs": [
                {
                    "data": {
                        "text/html": "\u003cdiv\u003e\n\u003cstyle scoped\u003e\n    .dataframe tbody tr th:only-of-type {\n        vertical-align: middle;\n    }\n\n    .dataframe tbody tr th {\n        vertical-align: top;\n    }\n\n    .dataframe thead th {\n        text-align: right;\n    }\n\u003c/style\u003e\n\u003ctable border=\"1\" class=\"dataframe\"\u003e\n  \u003cthead\u003e\n    \u003ctr style=\"text-align: right;\"\u003e\n      \u003cth\u003e\u003c/th\u003e\n      \u003cth\u003elast_name\u003c/th\u003e\n      \u003cth\u003efirst_name\u003c/th\u003e\n    \u003c/tr\u003e\n  \u003c/thead\u003e\n  \u003ctbody\u003e\n    \u003ctr\u003e\n      \u003cth\u003e0\u003c/th\u003e\n      \u003ctd\u003eAgee\u003c/td\u003e\n      \u003ctd\u003eSteven\u003c/td\u003e\n    \u003c/tr\u003e\n    \u003ctr\u003e\n      \u003cth\u003e1\u003c/th\u003e\n      \u003ctd\u003eAhrens\u003c/td\u003e\n      \u003ctd\u003eDon\u003c/td\u003e\n    \u003c/tr\u003e\n    \u003ctr\u003e\n      \u003cth\u003e4\u003c/th\u003e\n      \u003ctd\u003eAkin\u003c/td\u003e\n      \u003ctd\u003eCharles\u003c/td\u003e\n    \u003c/tr\u003e\n    \u003ctr\u003e\n      \u003cth\u003e5\u003c/th\u003e\n      \u003ctd\u003eAkin\u003c/td\u003e\n      \u003ctd\u003eMike\u003c/td\u003e\n    \u003c/tr\u003e\n    \u003ctr\u003e\n      \u003cth\u003e6\u003c/th\u003e\n      \u003ctd\u003eAkin\u003c/td\u003e\n      \u003ctd\u003eRebecca\u003c/td\u003e\n    \u003c/tr\u003e\n    \u003ctr\u003e\n      \u003cth\u003e...\u003c/th\u003e\n      \u003ctd\u003e...\u003c/td\u003e\n      \u003ctd\u003e...\u003c/td\u003e\n    \u003c/tr\u003e\n    \u003ctr\u003e\n      \u003cth\u003e169\u003c/th\u003e\n      \u003ctd\u003eABERCROMBIE\u003c/td\u003e\n      \u003ctd\u003eDENIS\u003c/td\u003e\n    \u003c/tr\u003e\n    \u003ctr\u003e\n      \u003cth\u003e170\u003c/th\u003e\n      \u003ctd\u003eABESHAUS\u003c/td\u003e\n      \u003ctd\u003eMERRILL\u003c/td\u003e\n    \u003c/tr\u003e\n    \u003ctr\u003e\n      \u003cth\u003e171\u003c/th\u003e\n      \u003ctd\u003eABRAHAM\u003c/td\u003e\n      \u003ctd\u003eGEORGE\u003c/td\u003e\n    \u003c/tr\u003e\n    \u003ctr\u003e\n      \u003cth\u003e172\u003c/th\u003e\n      \u003ctd\u003eABRAHAMSON\u003c/td\u003e\n      \u003ctd\u003ePETER\u003c/td\u003e\n    \u003c/tr\u003e\n    \u003ctr\u003e\n      \u003cth\u003e173\u003c/th\u003e\n      \u003ctd\u003eABRAHAM\u003c/td\u003e\n      \u003ctd\u003eSALEM\u003c/td\u003e\n    \u003c/tr\u003e\n  \u003c/tbody\u003e\n\u003c/table\u003e\n\u003cp\u003e126 rows × 2 columns\u003c/p\u003e\n\u003c/div\u003e",
                        "text/plain": "       last_name first_name\n0           Agee     Steven\n1         Ahrens        Don\n4           Akin    Charles\n5           Akin       Mike\n6           Akin    Rebecca\n..           ...        ...\n169  ABERCROMBIE      DENIS\n170     ABESHAUS    MERRILL\n171      ABRAHAM     GEORGE\n172   ABRAHAMSON      PETER\n173      ABRAHAM      SALEM\n\n[126 rows x 2 columns]"
                    },
                    "execution_count": 22,
                    "metadata": {},
                    "output_type": "execute_result"
                }
            ],
            "source": [
                "dfcwci[['last_name','first_name']].drop_duplicates()"
            ]
        },
        {
            "attachments": {},
            "cell_type": "markdown",
            "metadata": {},
            "source": [
                "Let us now create the entire dataframe with the duplicates dropped."
            ]
        },
        {
            "cell_type": "code",
            "execution_count": 23,
            "metadata": {},
            "outputs": [
                {
                    "name": "stdout",
                    "output_type": "stream",
                    "text": "0    False\n1    False\n2     True\n3     True\n4    False\n5    False\n6    False\n7    False\n8    False\n9     True\ndtype: bool\n"
                },
                {
                    "data": {
                        "text/html": "\u003cdiv\u003e\n\u003cstyle scoped\u003e\n    .dataframe tbody tr th:only-of-type {\n        vertical-align: middle;\n    }\n\n    .dataframe tbody tr th {\n        vertical-align: top;\n    }\n\n    .dataframe thead th {\n        text-align: right;\n    }\n\u003c/style\u003e\n\u003ctable border=\"1\" class=\"dataframe\"\u003e\n  \u003cthead\u003e\n    \u003ctr style=\"text-align: right;\"\u003e\n      \u003cth\u003e\u003c/th\u003e\n      \u003cth\u003elast_name\u003c/th\u003e\n      \u003cth\u003efirst_name\u003c/th\u003e\n      \u003cth\u003emiddle_name\u003c/th\u003e\n      \u003cth\u003estreet_1\u003c/th\u003e\n      \u003cth\u003estreet_2\u003c/th\u003e\n      \u003cth\u003ecity\u003c/th\u003e\n      \u003cth\u003estate\u003c/th\u003e\n      \u003cth\u003ezip\u003c/th\u003e\n      \u003cth\u003eamount\u003c/th\u003e\n      \u003cth\u003edate\u003c/th\u003e\n      \u003cth\u003ecandidate_id\u003c/th\u003e\n    \u003c/tr\u003e\n  \u003c/thead\u003e\n  \u003ctbody\u003e\n    \u003ctr\u003e\n      \u003cth\u003e0\u003c/th\u003e\n      \u003ctd\u003eAgee\u003c/td\u003e\n      \u003ctd\u003eSteven\u003c/td\u003e\n      \u003ctd\u003eNaN\u003c/td\u003e\n      \u003ctd\u003e549 Laurel Branch Road\u003c/td\u003e\n      \u003ctd\u003eNaN\u003c/td\u003e\n      \u003ctd\u003eFloyd\u003c/td\u003e\n      \u003ctd\u003eVA\u003c/td\u003e\n      \u003ctd\u003e24091\u003c/td\u003e\n      \u003ctd\u003e500.0\u003c/td\u003e\n      \u003ctd\u003e2007-06-30\u003c/td\u003e\n      \u003ctd\u003e16\u003c/td\u003e\n    \u003c/tr\u003e\n    \u003ctr\u003e\n      \u003cth\u003e1\u003c/th\u003e\n      \u003ctd\u003eAhrens\u003c/td\u003e\n      \u003ctd\u003eDon\u003c/td\u003e\n      \u003ctd\u003eNaN\u003c/td\u003e\n      \u003ctd\u003e4034 Rennellwood Way\u003c/td\u003e\n      \u003ctd\u003eNaN\u003c/td\u003e\n      \u003ctd\u003ePleasanton\u003c/td\u003e\n      \u003ctd\u003eCA\u003c/td\u003e\n      \u003ctd\u003e94566\u003c/td\u003e\n      \u003ctd\u003e250.0\u003c/td\u003e\n      \u003ctd\u003e2007-05-16\u003c/td\u003e\n      \u003ctd\u003e16\u003c/td\u003e\n    \u003c/tr\u003e\n    \u003ctr\u003e\n      \u003cth\u003e4\u003c/th\u003e\n      \u003ctd\u003eAkin\u003c/td\u003e\n      \u003ctd\u003eCharles\u003c/td\u003e\n      \u003ctd\u003eNaN\u003c/td\u003e\n      \u003ctd\u003e10187 Sugar Creek Road\u003c/td\u003e\n      \u003ctd\u003eNaN\u003c/td\u003e\n      \u003ctd\u003eBentonville\u003c/td\u003e\n      \u003ctd\u003eAR\u003c/td\u003e\n      \u003ctd\u003e72712\u003c/td\u003e\n      \u003ctd\u003e100.0\u003c/td\u003e\n      \u003ctd\u003e2007-06-16\u003c/td\u003e\n      \u003ctd\u003e16\u003c/td\u003e\n    \u003c/tr\u003e\n    \u003ctr\u003e\n      \u003cth\u003e5\u003c/th\u003e\n      \u003ctd\u003eAkin\u003c/td\u003e\n      \u003ctd\u003eMike\u003c/td\u003e\n      \u003ctd\u003eNaN\u003c/td\u003e\n      \u003ctd\u003e181 Baywood Lane\u003c/td\u003e\n      \u003ctd\u003eNaN\u003c/td\u003e\n      \u003ctd\u003eMonticello\u003c/td\u003e\n      \u003ctd\u003eAR\u003c/td\u003e\n      \u003ctd\u003e71655\u003c/td\u003e\n      \u003ctd\u003e1500.0\u003c/td\u003e\n      \u003ctd\u003e2007-05-18\u003c/td\u003e\n      \u003ctd\u003e16\u003c/td\u003e\n    \u003c/tr\u003e\n    \u003ctr\u003e\n      \u003cth\u003e6\u003c/th\u003e\n      \u003ctd\u003eAkin\u003c/td\u003e\n      \u003ctd\u003eRebecca\u003c/td\u003e\n      \u003ctd\u003eNaN\u003c/td\u003e\n      \u003ctd\u003e181 Baywood Lane\u003c/td\u003e\n      \u003ctd\u003eNaN\u003c/td\u003e\n      \u003ctd\u003eMonticello\u003c/td\u003e\n      \u003ctd\u003eAR\u003c/td\u003e\n      \u003ctd\u003e71655\u003c/td\u003e\n      \u003ctd\u003e500.0\u003c/td\u003e\n      \u003ctd\u003e2007-05-18\u003c/td\u003e\n      \u003ctd\u003e16\u003c/td\u003e\n    \u003c/tr\u003e\n    \u003ctr\u003e\n      \u003cth\u003e...\u003c/th\u003e\n      \u003ctd\u003e...\u003c/td\u003e\n      \u003ctd\u003e...\u003c/td\u003e\n      \u003ctd\u003e...\u003c/td\u003e\n      \u003ctd\u003e...\u003c/td\u003e\n      \u003ctd\u003e...\u003c/td\u003e\n      \u003ctd\u003e...\u003c/td\u003e\n      \u003ctd\u003e...\u003c/td\u003e\n      \u003ctd\u003e...\u003c/td\u003e\n      \u003ctd\u003e...\u003c/td\u003e\n      \u003ctd\u003e...\u003c/td\u003e\n      \u003ctd\u003e...\u003c/td\u003e\n    \u003c/tr\u003e\n    \u003ctr\u003e\n      \u003cth\u003e169\u003c/th\u003e\n      \u003ctd\u003eABERCROMBIE\u003c/td\u003e\n      \u003ctd\u003eDENIS\u003c/td\u003e\n      \u003ctd\u003eNaN\u003c/td\u003e\n      \u003ctd\u003e11811 WATER OAK CT\u003c/td\u003e\n      \u003ctd\u003eNaN\u003c/td\u003e\n      \u003ctd\u003eMAGNOLIA\u003c/td\u003e\n      \u003ctd\u003eTX\u003c/td\u003e\n      \u003ctd\u003e773546270\u003c/td\u003e\n      \u003ctd\u003e500.0\u003c/td\u003e\n      \u003ctd\u003e2008-01-30\u003c/td\u003e\n      \u003ctd\u003e37\u003c/td\u003e\n    \u003c/tr\u003e\n    \u003ctr\u003e\n      \u003cth\u003e170\u003c/th\u003e\n      \u003ctd\u003eABESHAUS\u003c/td\u003e\n      \u003ctd\u003eMERRILL\u003c/td\u003e\n      \u003ctd\u003eM.\u003c/td\u003e\n      \u003ctd\u003e1801 N. HEREFORD DRIVE\u003c/td\u003e\n      \u003ctd\u003eNaN\u003c/td\u003e\n      \u003ctd\u003eFLAGSTAFF\u003c/td\u003e\n      \u003ctd\u003eAZ\u003c/td\u003e\n      \u003ctd\u003e860011121\u003c/td\u003e\n      \u003ctd\u003e120.0\u003c/td\u003e\n      \u003ctd\u003e2008-01-16\u003c/td\u003e\n      \u003ctd\u003e37\u003c/td\u003e\n    \u003c/tr\u003e\n    \u003ctr\u003e\n      \u003cth\u003e171\u003c/th\u003e\n      \u003ctd\u003eABRAHAM\u003c/td\u003e\n      \u003ctd\u003eGEORGE\u003c/td\u003e\n      \u003ctd\u003eNaN\u003c/td\u003e\n      \u003ctd\u003eP.O. BOX 1504\u003c/td\u003e\n      \u003ctd\u003eNaN\u003c/td\u003e\n      \u003ctd\u003eLAKE CHARLES\u003c/td\u003e\n      \u003ctd\u003eLA\u003c/td\u003e\n      \u003ctd\u003e706021504\u003c/td\u003e\n      \u003ctd\u003e800.0\u003c/td\u003e\n      \u003ctd\u003e2008-01-17\u003c/td\u003e\n      \u003ctd\u003e37\u003c/td\u003e\n    \u003c/tr\u003e\n    \u003ctr\u003e\n      \u003cth\u003e172\u003c/th\u003e\n      \u003ctd\u003eABRAHAMSON\u003c/td\u003e\n      \u003ctd\u003ePETER\u003c/td\u003e\n      \u003ctd\u003eJ.\u003c/td\u003e\n      \u003ctd\u003e1030 W. ROSCOE STREET\u003c/td\u003e\n      \u003ctd\u003eNaN\u003c/td\u003e\n      \u003ctd\u003eCHICAGO\u003c/td\u003e\n      \u003ctd\u003eIL\u003c/td\u003e\n      \u003ctd\u003e606572207\u003c/td\u003e\n      \u003ctd\u003e50.0\u003c/td\u003e\n      \u003ctd\u003e2008-01-25\u003c/td\u003e\n      \u003ctd\u003e37\u003c/td\u003e\n    \u003c/tr\u003e\n    \u003ctr\u003e\n      \u003cth\u003e173\u003c/th\u003e\n      \u003ctd\u003eABRAHAM\u003c/td\u003e\n      \u003ctd\u003eSALEM\u003c/td\u003e\n      \u003ctd\u003eA.\u003c/td\u003e\n      \u003ctd\u003eP.O. BOX 7\u003c/td\u003e\n      \u003ctd\u003eNaN\u003c/td\u003e\n      \u003ctd\u003eCANADIAN\u003c/td\u003e\n      \u003ctd\u003eTX\u003c/td\u003e\n      \u003ctd\u003e790140007\u003c/td\u003e\n      \u003ctd\u003e1000.0\u003c/td\u003e\n      \u003ctd\u003e2008-01-17\u003c/td\u003e\n      \u003ctd\u003e37\u003c/td\u003e\n    \u003c/tr\u003e\n  \u003c/tbody\u003e\n\u003c/table\u003e\n\u003cp\u003e126 rows × 11 columns\u003c/p\u003e\n\u003c/div\u003e",
                        "text/plain": "       last_name first_name middle_name                street_1 street_2  \\\n0           Agee     Steven         NaN  549 Laurel Branch Road      NaN   \n1         Ahrens        Don         NaN    4034 Rennellwood Way      NaN   \n4           Akin    Charles         NaN  10187 Sugar Creek Road      NaN   \n5           Akin       Mike         NaN        181 Baywood Lane      NaN   \n6           Akin    Rebecca         NaN        181 Baywood Lane      NaN   \n..           ...        ...         ...                     ...      ...   \n169  ABERCROMBIE      DENIS         NaN      11811 WATER OAK CT      NaN   \n170     ABESHAUS    MERRILL          M.  1801 N. HEREFORD DRIVE      NaN   \n171      ABRAHAM     GEORGE         NaN           P.O. BOX 1504      NaN   \n172   ABRAHAMSON      PETER          J.   1030 W. ROSCOE STREET      NaN   \n173      ABRAHAM      SALEM          A.              P.O. BOX 7      NaN   \n\n             city state        zip  amount        date  candidate_id  \n0           Floyd    VA      24091   500.0  2007-06-30            16  \n1      Pleasanton    CA      94566   250.0  2007-05-16            16  \n4     Bentonville    AR      72712   100.0  2007-06-16            16  \n5      Monticello    AR      71655  1500.0  2007-05-18            16  \n6      Monticello    AR      71655   500.0  2007-05-18            16  \n..            ...   ...        ...     ...         ...           ...  \n169      MAGNOLIA    TX  773546270   500.0  2008-01-30            37  \n170     FLAGSTAFF    AZ  860011121   120.0  2008-01-16            37  \n171  LAKE CHARLES    LA  706021504   800.0  2008-01-17            37  \n172       CHICAGO    IL  606572207    50.0  2008-01-25            37  \n173      CANADIAN    TX  790140007  1000.0  2008-01-17            37  \n\n[126 rows x 11 columns]"
                    },
                    "execution_count": 23,
                    "metadata": {},
                    "output_type": "execute_result"
                }
            ],
            "source": [
                "### edTest(test_duplicates) ###\n",
                "mask = dfcwci[['last_name','first_name']].duplicated()\n",
                "print(mask[:10])\n",
                "uniquedfcwci=dfcwci[~mask]\n",
                "uniquedfcwci"
            ]
        },
        {
            "attachments": {},
            "cell_type": "markdown",
            "metadata": {},
            "source": [
                "### Q3.2 How do you do it in SQL?"
            ]
        },
        {
            "cell_type": "code",
            "execution_count": 24,
            "metadata": {},
            "outputs": [
                {
                    "data": {
                        "text/html": "\u003cdiv\u003e\n\u003cstyle scoped\u003e\n    .dataframe tbody tr th:only-of-type {\n        vertical-align: middle;\n    }\n\n    .dataframe tbody tr th {\n        vertical-align: top;\n    }\n\n    .dataframe thead th {\n        text-align: right;\n    }\n\u003c/style\u003e\n\u003ctable border=\"1\" class=\"dataframe\"\u003e\n  \u003cthead\u003e\n    \u003ctr style=\"text-align: right;\"\u003e\n      \u003cth\u003e\u003c/th\u003e\n      \u003cth\u003elast_name\u003c/th\u003e\n      \u003cth\u003efirst_name\u003c/th\u003e\n    \u003c/tr\u003e\n  \u003c/thead\u003e\n  \u003ctbody\u003e\n    \u003ctr\u003e\n      \u003cth\u003e0\u003c/th\u003e\n      \u003ctd\u003eAgee\u003c/td\u003e\n      \u003ctd\u003eSteven\u003c/td\u003e\n    \u003c/tr\u003e\n    \u003ctr\u003e\n      \u003cth\u003e1\u003c/th\u003e\n      \u003ctd\u003eAhrens\u003c/td\u003e\n      \u003ctd\u003eDon\u003c/td\u003e\n    \u003c/tr\u003e\n    \u003ctr\u003e\n      \u003cth\u003e2\u003c/th\u003e\n      \u003ctd\u003eAkin\u003c/td\u003e\n      \u003ctd\u003eCharles\u003c/td\u003e\n    \u003c/tr\u003e\n    \u003ctr\u003e\n      \u003cth\u003e3\u003c/th\u003e\n      \u003ctd\u003eAkin\u003c/td\u003e\n      \u003ctd\u003eMike\u003c/td\u003e\n    \u003c/tr\u003e\n    \u003ctr\u003e\n      \u003cth\u003e4\u003c/th\u003e\n      \u003ctd\u003eAkin\u003c/td\u003e\n      \u003ctd\u003eRebecca\u003c/td\u003e\n    \u003c/tr\u003e\n    \u003ctr\u003e\n      \u003cth\u003e...\u003c/th\u003e\n      \u003ctd\u003e...\u003c/td\u003e\n      \u003ctd\u003e...\u003c/td\u003e\n    \u003c/tr\u003e\n    \u003ctr\u003e\n      \u003cth\u003e121\u003c/th\u003e\n      \u003ctd\u003eABERCROMBIE\u003c/td\u003e\n      \u003ctd\u003eDENIS\u003c/td\u003e\n    \u003c/tr\u003e\n    \u003ctr\u003e\n      \u003cth\u003e122\u003c/th\u003e\n      \u003ctd\u003eABESHAUS\u003c/td\u003e\n      \u003ctd\u003eMERRILL\u003c/td\u003e\n    \u003c/tr\u003e\n    \u003ctr\u003e\n      \u003cth\u003e123\u003c/th\u003e\n      \u003ctd\u003eABRAHAM\u003c/td\u003e\n      \u003ctd\u003eGEORGE\u003c/td\u003e\n    \u003c/tr\u003e\n    \u003ctr\u003e\n      \u003cth\u003e124\u003c/th\u003e\n      \u003ctd\u003eABRAHAMSON\u003c/td\u003e\n      \u003ctd\u003ePETER\u003c/td\u003e\n    \u003c/tr\u003e\n    \u003ctr\u003e\n      \u003cth\u003e125\u003c/th\u003e\n      \u003ctd\u003eABRAHAM\u003c/td\u003e\n      \u003ctd\u003eSALEM\u003c/td\u003e\n    \u003c/tr\u003e\n  \u003c/tbody\u003e\n\u003c/table\u003e\n\u003cp\u003e126 rows × 2 columns\u003c/p\u003e\n\u003c/div\u003e",
                        "text/plain": "       last_name first_name\n0           Agee     Steven\n1         Ahrens        Don\n2           Akin    Charles\n3           Akin       Mike\n4           Akin    Rebecca\n..           ...        ...\n121  ABERCROMBIE      DENIS\n122     ABESHAUS    MERRILL\n123      ABRAHAM     GEORGE\n124   ABRAHAMSON      PETER\n125      ABRAHAM      SALEM\n\n[126 rows x 2 columns]"
                    },
                    "execution_count": 24,
                    "metadata": {},
                    "output_type": "execute_result"
                }
            ],
            "source": [
                "out=make_query(\"SELECT DISTINCT last_name, first_name FROM contributors \")\n",
                "make_frame(out,['last_name', 'first_name'])"
            ]
        },
        {
            "attachments": {},
            "cell_type": "markdown",
            "metadata": {},
            "source": [
                "Is this very ad-hoc duplicate removal mechanism a good cleaning strategy?"
            ]
        },
        {
            "cell_type": "code",
            "execution_count": 25,
            "metadata": {},
            "outputs": [],
            "source": [
                "db.close()"
            ]
        },
        {
            "attachments": {},
            "cell_type": "markdown",
            "metadata": {},
            "source": [
                "---"
            ]
        }
    ]
}
